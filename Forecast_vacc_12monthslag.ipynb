{
  "cells": [
    {
      "cell_type": "markdown",
      "metadata": {
        "id": "view-in-github",
        "colab_type": "text"
      },
      "source": [
        "<a href=\"https://colab.research.google.com/github/leonatopl/dataxgurupl/blob/master/Forecast_vacc_12monthslag.ipynb\" target=\"_parent\"><img src=\"https://colab.research.google.com/assets/colab-badge.svg\" alt=\"Open In Colab\"/></a>"
      ]
    },
    {
      "cell_type": "markdown",
      "id": "647979d1",
      "metadata": {
        "id": "647979d1"
      },
      "source": [
        "# <center> <font color='blue'> Group 2 - Final Project - November 26th, 2022 </center> </font>"
      ]
    },
    {
      "cell_type": "markdown",
      "id": "8bfa8d1d",
      "metadata": {
        "id": "8bfa8d1d"
      },
      "source": [
        "# <center><font color=green>Time Series - Linear Regression</font> </center>"
      ]
    },
    {
      "cell_type": "markdown",
      "id": "fdf7b301",
      "metadata": {
        "id": "fdf7b301"
      },
      "source": [
        "##  Approach: Machine Learning Supervised Linear Regression"
      ]
    },
    {
      "cell_type": "markdown",
      "id": "96fe9938",
      "metadata": {
        "id": "96fe9938"
      },
      "source": [
        "## STEP 1: Import Libraries"
      ]
    },
    {
      "cell_type": "code",
      "execution_count": null,
      "id": "ae296bd7",
      "metadata": {
        "id": "ae296bd7"
      },
      "outputs": [],
      "source": [
        "#Importing nececcary libraries\n",
        "import numpy as np\n",
        "import pandas as pd\n",
        "\n",
        "from pandas.plotting import scatter_matrix\n",
        "from sklearn.linear_model import LinearRegression\n",
        "from sklearn.preprocessing import MinMaxScaler\n",
        "from sklearn.metrics import mean_absolute_error,mean_squared_error,r2_score\n",
        "\n",
        "from sklearn.model_selection import train_test_split\n",
        "from sklearn.model_selection import KFold\n",
        "from sklearn.model_selection import cross_val_score\n",
        "\n",
        "import matplotlib.pyplot as plt\n",
        "\n",
        "\n",
        "import seaborn as sns\n",
        "sns.set(color_codes=True)\n",
        "\n",
        "# filter warnings\n",
        "import warnings\n",
        "warnings.filterwarnings('ignore')\n",
        "\n"
      ]
    },
    {
      "cell_type": "markdown",
      "id": "1b8d624c",
      "metadata": {
        "id": "1b8d624c"
      },
      "source": [
        "## <font color=grey> WORKFLOW: DATA SET </font>"
      ]
    },
    {
      "cell_type": "markdown",
      "id": "06e8bd5a",
      "metadata": {
        "id": "06e8bd5a"
      },
      "source": [
        "## STEP 2: Data description and Load the Data\n",
        "\n",
        "Dataset was retrieved from https://data.chhs.ca.gov/dataset/vaccine-progress-dashboard"
      ]
    },
    {
      "cell_type": "code",
      "execution_count": null,
      "id": "5e17682c",
      "metadata": {
        "id": "5e17682c"
      },
      "outputs": [],
      "source": [
        "#Dataset location\n",
        "covid_vaccines = 'covid19vaccineCleaned.csv'"
      ]
    },
    {
      "cell_type": "code",
      "execution_count": null,
      "id": "86b8695b",
      "metadata": {
        "id": "86b8695b"
      },
      "outputs": [],
      "source": [
        "#Using Pandas DataFrame to load the data\n",
        "\n",
        "df = pd.read_csv(covid_vaccines)"
      ]
    },
    {
      "cell_type": "code",
      "execution_count": null,
      "id": "bcecc8df",
      "metadata": {
        "id": "bcecc8df",
        "outputId": "9c9b4786-e762-4976-fec6-972da4c2c62c"
      },
      "outputs": [
        {
          "data": {
            "text/html": [
              "<div>\n",
              "<style scoped>\n",
              "    .dataframe tbody tr th:only-of-type {\n",
              "        vertical-align: middle;\n",
              "    }\n",
              "\n",
              "    .dataframe tbody tr th {\n",
              "        vertical-align: top;\n",
              "    }\n",
              "\n",
              "    .dataframe thead th {\n",
              "        text-align: right;\n",
              "    }\n",
              "</style>\n",
              "<table border=\"1\" class=\"dataframe\">\n",
              "  <thead>\n",
              "    <tr style=\"text-align: right;\">\n",
              "      <th></th>\n",
              "      <th>county</th>\n",
              "      <th>administered_date</th>\n",
              "      <th>total_doses</th>\n",
              "      <th>cumulative_total_doses</th>\n",
              "      <th>pfizer_doses</th>\n",
              "      <th>cumulative_pfizer_doses</th>\n",
              "      <th>moderna_doses</th>\n",
              "      <th>cumulative_moderna_doses</th>\n",
              "      <th>jj_doses</th>\n",
              "      <th>cumulative_jj_doses</th>\n",
              "      <th>...</th>\n",
              "      <th>fully_vaccinated</th>\n",
              "      <th>cumulative_fully_vaccinated</th>\n",
              "      <th>at_least_one_dose</th>\n",
              "      <th>cumulative_at_least_one_dose</th>\n",
              "      <th>booster_recip_count</th>\n",
              "      <th>bivalent_booster_recip_count</th>\n",
              "      <th>cumulative_booster_recip_count</th>\n",
              "      <th>cumulative_bivalent_booster_recip_count</th>\n",
              "      <th>booster_eligible_population</th>\n",
              "      <th>bivalent_booster_eligible_population</th>\n",
              "    </tr>\n",
              "  </thead>\n",
              "  <tbody>\n",
              "    <tr>\n",
              "      <th>0</th>\n",
              "      <td>Alameda</td>\n",
              "      <td>1/5/20</td>\n",
              "      <td>0</td>\n",
              "      <td>0</td>\n",
              "      <td>0</td>\n",
              "      <td>0</td>\n",
              "      <td>0</td>\n",
              "      <td>0</td>\n",
              "      <td>0</td>\n",
              "      <td>0</td>\n",
              "      <td>...</td>\n",
              "      <td>0</td>\n",
              "      <td>0</td>\n",
              "      <td>0</td>\n",
              "      <td>0</td>\n",
              "      <td>0</td>\n",
              "      <td>0</td>\n",
              "      <td>0</td>\n",
              "      <td>0</td>\n",
              "      <td>1396064</td>\n",
              "      <td>1396064</td>\n",
              "    </tr>\n",
              "    <tr>\n",
              "      <th>1</th>\n",
              "      <td>Alameda</td>\n",
              "      <td>7/27/20</td>\n",
              "      <td>0</td>\n",
              "      <td>0</td>\n",
              "      <td>0</td>\n",
              "      <td>0</td>\n",
              "      <td>0</td>\n",
              "      <td>0</td>\n",
              "      <td>0</td>\n",
              "      <td>0</td>\n",
              "      <td>...</td>\n",
              "      <td>0</td>\n",
              "      <td>0</td>\n",
              "      <td>0</td>\n",
              "      <td>0</td>\n",
              "      <td>0</td>\n",
              "      <td>0</td>\n",
              "      <td>0</td>\n",
              "      <td>0</td>\n",
              "      <td>1396064</td>\n",
              "      <td>1396064</td>\n",
              "    </tr>\n",
              "    <tr>\n",
              "      <th>2</th>\n",
              "      <td>Alameda</td>\n",
              "      <td>7/30/20</td>\n",
              "      <td>0</td>\n",
              "      <td>2</td>\n",
              "      <td>0</td>\n",
              "      <td>0</td>\n",
              "      <td>0</td>\n",
              "      <td>2</td>\n",
              "      <td>0</td>\n",
              "      <td>0</td>\n",
              "      <td>...</td>\n",
              "      <td>0</td>\n",
              "      <td>0</td>\n",
              "      <td>0</td>\n",
              "      <td>2</td>\n",
              "      <td>0</td>\n",
              "      <td>0</td>\n",
              "      <td>0</td>\n",
              "      <td>0</td>\n",
              "      <td>1396064</td>\n",
              "      <td>1396064</td>\n",
              "    </tr>\n",
              "    <tr>\n",
              "      <th>3</th>\n",
              "      <td>Alameda</td>\n",
              "      <td>7/31/20</td>\n",
              "      <td>0</td>\n",
              "      <td>2</td>\n",
              "      <td>0</td>\n",
              "      <td>0</td>\n",
              "      <td>0</td>\n",
              "      <td>2</td>\n",
              "      <td>0</td>\n",
              "      <td>0</td>\n",
              "      <td>...</td>\n",
              "      <td>0</td>\n",
              "      <td>0</td>\n",
              "      <td>0</td>\n",
              "      <td>2</td>\n",
              "      <td>0</td>\n",
              "      <td>0</td>\n",
              "      <td>0</td>\n",
              "      <td>0</td>\n",
              "      <td>1396064</td>\n",
              "      <td>1396064</td>\n",
              "    </tr>\n",
              "    <tr>\n",
              "      <th>4</th>\n",
              "      <td>Alameda</td>\n",
              "      <td>8/1/20</td>\n",
              "      <td>0</td>\n",
              "      <td>2</td>\n",
              "      <td>0</td>\n",
              "      <td>0</td>\n",
              "      <td>0</td>\n",
              "      <td>2</td>\n",
              "      <td>0</td>\n",
              "      <td>0</td>\n",
              "      <td>...</td>\n",
              "      <td>0</td>\n",
              "      <td>0</td>\n",
              "      <td>0</td>\n",
              "      <td>2</td>\n",
              "      <td>0</td>\n",
              "      <td>0</td>\n",
              "      <td>0</td>\n",
              "      <td>0</td>\n",
              "      <td>1396064</td>\n",
              "      <td>1396064</td>\n",
              "    </tr>\n",
              "  </tbody>\n",
              "</table>\n",
              "<p>5 rows × 22 columns</p>\n",
              "</div>"
            ],
            "text/plain": [
              "    county administered_date  total_doses  cumulative_total_doses  \\\n",
              "0  Alameda            1/5/20            0                       0   \n",
              "1  Alameda           7/27/20            0                       0   \n",
              "2  Alameda           7/30/20            0                       2   \n",
              "3  Alameda           7/31/20            0                       2   \n",
              "4  Alameda            8/1/20            0                       2   \n",
              "\n",
              "   pfizer_doses  cumulative_pfizer_doses  moderna_doses  \\\n",
              "0             0                        0              0   \n",
              "1             0                        0              0   \n",
              "2             0                        0              0   \n",
              "3             0                        0              0   \n",
              "4             0                        0              0   \n",
              "\n",
              "   cumulative_moderna_doses  jj_doses  cumulative_jj_doses  ...  \\\n",
              "0                         0         0                    0  ...   \n",
              "1                         0         0                    0  ...   \n",
              "2                         2         0                    0  ...   \n",
              "3                         2         0                    0  ...   \n",
              "4                         2         0                    0  ...   \n",
              "\n",
              "   fully_vaccinated  cumulative_fully_vaccinated  at_least_one_dose  \\\n",
              "0                 0                            0                  0   \n",
              "1                 0                            0                  0   \n",
              "2                 0                            0                  0   \n",
              "3                 0                            0                  0   \n",
              "4                 0                            0                  0   \n",
              "\n",
              "   cumulative_at_least_one_dose  booster_recip_count  \\\n",
              "0                             0                    0   \n",
              "1                             0                    0   \n",
              "2                             2                    0   \n",
              "3                             2                    0   \n",
              "4                             2                    0   \n",
              "\n",
              "   bivalent_booster_recip_count  cumulative_booster_recip_count  \\\n",
              "0                             0                               0   \n",
              "1                             0                               0   \n",
              "2                             0                               0   \n",
              "3                             0                               0   \n",
              "4                             0                               0   \n",
              "\n",
              "   cumulative_bivalent_booster_recip_count  booster_eligible_population  \\\n",
              "0                                        0                      1396064   \n",
              "1                                        0                      1396064   \n",
              "2                                        0                      1396064   \n",
              "3                                        0                      1396064   \n",
              "4                                        0                      1396064   \n",
              "\n",
              "   bivalent_booster_eligible_population  \n",
              "0                               1396064  \n",
              "1                               1396064  \n",
              "2                               1396064  \n",
              "3                               1396064  \n",
              "4                               1396064  \n",
              "\n",
              "[5 rows x 22 columns]"
            ]
          },
          "execution_count": 915,
          "metadata": {},
          "output_type": "execute_result"
        }
      ],
      "source": [
        "#Display the first five rows in the dataset\n",
        "df.head()"
      ]
    },
    {
      "cell_type": "markdown",
      "id": "e2dd72c2",
      "metadata": {
        "id": "e2dd72c2"
      },
      "source": [
        "## <font color=grey> WORKFLOW: Clean and Preprocess the Dataset </font>"
      ]
    },
    {
      "cell_type": "markdown",
      "id": "92119d20",
      "metadata": {
        "id": "92119d20"
      },
      "source": [
        "## STEP 3: Clean the data"
      ]
    },
    {
      "cell_type": "code",
      "execution_count": null,
      "id": "124725a3",
      "metadata": {
        "id": "124725a3",
        "outputId": "155872c0-0c21-4365-ed95-79e90ed43db1"
      },
      "outputs": [
        {
          "name": "stdout",
          "output_type": "stream",
          "text": [
            "<class 'pandas.core.frame.DataFrame'>\n",
            "RangeIndex: 49737 entries, 0 to 49736\n",
            "Data columns (total 22 columns):\n",
            " #   Column                                   Non-Null Count  Dtype \n",
            "---  ------                                   --------------  ----- \n",
            " 0   county                                   49737 non-null  object\n",
            " 1   administered_date                        49737 non-null  object\n",
            " 2   total_doses                              49737 non-null  int64 \n",
            " 3   cumulative_total_doses                   49737 non-null  int64 \n",
            " 4   pfizer_doses                             49737 non-null  int64 \n",
            " 5   cumulative_pfizer_doses                  49737 non-null  int64 \n",
            " 6   moderna_doses                            49737 non-null  int64 \n",
            " 7   cumulative_moderna_doses                 49737 non-null  int64 \n",
            " 8   jj_doses                                 49737 non-null  int64 \n",
            " 9   cumulative_jj_doses                      49737 non-null  int64 \n",
            " 10  partially_vaccinated                     49737 non-null  int64 \n",
            " 11  total_partially_vaccinated               49737 non-null  int64 \n",
            " 12  fully_vaccinated                         49737 non-null  int64 \n",
            " 13  cumulative_fully_vaccinated              49737 non-null  int64 \n",
            " 14  at_least_one_dose                        49737 non-null  int64 \n",
            " 15  cumulative_at_least_one_dose             49737 non-null  int64 \n",
            " 16  booster_recip_count                      49737 non-null  int64 \n",
            " 17  bivalent_booster_recip_count             49737 non-null  int64 \n",
            " 18  cumulative_booster_recip_count           49737 non-null  int64 \n",
            " 19  cumulative_bivalent_booster_recip_count  49737 non-null  int64 \n",
            " 20  booster_eligible_population              49737 non-null  int64 \n",
            " 21  bivalent_booster_eligible_population     49737 non-null  int64 \n",
            "dtypes: int64(20), object(2)\n",
            "memory usage: 8.3+ MB\n"
          ]
        }
      ],
      "source": [
        "df.info()"
      ]
    },
    {
      "cell_type": "code",
      "execution_count": null,
      "id": "5d079591",
      "metadata": {
        "id": "5d079591",
        "outputId": "f4f4ccdb-d2d5-455a-dbc7-a52181336c37"
      },
      "outputs": [
        {
          "data": {
            "text/plain": [
              "county                                     0\n",
              "administered_date                          0\n",
              "total_doses                                0\n",
              "cumulative_total_doses                     0\n",
              "pfizer_doses                               0\n",
              "cumulative_pfizer_doses                    0\n",
              "moderna_doses                              0\n",
              "cumulative_moderna_doses                   0\n",
              "jj_doses                                   0\n",
              "cumulative_jj_doses                        0\n",
              "partially_vaccinated                       0\n",
              "total_partially_vaccinated                 0\n",
              "fully_vaccinated                           0\n",
              "cumulative_fully_vaccinated                0\n",
              "at_least_one_dose                          0\n",
              "cumulative_at_least_one_dose               0\n",
              "booster_recip_count                        0\n",
              "bivalent_booster_recip_count               0\n",
              "cumulative_booster_recip_count             0\n",
              "cumulative_bivalent_booster_recip_count    0\n",
              "booster_eligible_population                0\n",
              "bivalent_booster_eligible_population       0\n",
              "dtype: int64"
            ]
          },
          "execution_count": 874,
          "metadata": {},
          "output_type": "execute_result"
        }
      ],
      "source": [
        "#Checking for missing values\n",
        "\n",
        "df.isnull().sum()"
      ]
    },
    {
      "cell_type": "markdown",
      "id": "e3c62c92",
      "metadata": {
        "id": "e3c62c92"
      },
      "source": [
        "## STEP 4: Data Preparation and Visualization\n"
      ]
    },
    {
      "cell_type": "code",
      "execution_count": null,
      "id": "439ba8db",
      "metadata": {
        "id": "439ba8db",
        "outputId": "9a979c9f-3493-4eca-b3d0-8be34b9c5778"
      },
      "outputs": [
        {
          "data": {
            "text/html": [
              "<div>\n",
              "<style scoped>\n",
              "    .dataframe tbody tr th:only-of-type {\n",
              "        vertical-align: middle;\n",
              "    }\n",
              "\n",
              "    .dataframe tbody tr th {\n",
              "        vertical-align: top;\n",
              "    }\n",
              "\n",
              "    .dataframe thead th {\n",
              "        text-align: right;\n",
              "    }\n",
              "</style>\n",
              "<table border=\"1\" class=\"dataframe\">\n",
              "  <thead>\n",
              "    <tr style=\"text-align: right;\">\n",
              "      <th></th>\n",
              "      <th>administered_date</th>\n",
              "      <th>total_doses</th>\n",
              "    </tr>\n",
              "  </thead>\n",
              "  <tbody>\n",
              "    <tr>\n",
              "      <th>0</th>\n",
              "      <td>1/5/20</td>\n",
              "      <td>0</td>\n",
              "    </tr>\n",
              "    <tr>\n",
              "      <th>1</th>\n",
              "      <td>7/27/20</td>\n",
              "      <td>0</td>\n",
              "    </tr>\n",
              "    <tr>\n",
              "      <th>2</th>\n",
              "      <td>7/30/20</td>\n",
              "      <td>0</td>\n",
              "    </tr>\n",
              "    <tr>\n",
              "      <th>3</th>\n",
              "      <td>7/31/20</td>\n",
              "      <td>0</td>\n",
              "    </tr>\n",
              "    <tr>\n",
              "      <th>4</th>\n",
              "      <td>8/1/20</td>\n",
              "      <td>0</td>\n",
              "    </tr>\n",
              "  </tbody>\n",
              "</table>\n",
              "</div>"
            ],
            "text/plain": [
              "  administered_date  total_doses\n",
              "0            1/5/20            0\n",
              "1           7/27/20            0\n",
              "2           7/30/20            0\n",
              "3           7/31/20            0\n",
              "4            8/1/20            0"
            ]
          },
          "execution_count": 916,
          "metadata": {},
          "output_type": "execute_result"
        }
      ],
      "source": [
        "df1=df[['administered_date','total_doses']]\n",
        "df1.head()"
      ]
    },
    {
      "cell_type": "code",
      "execution_count": null,
      "id": "ab797b43",
      "metadata": {
        "id": "ab797b43",
        "outputId": "043efe85-fe24-4cbb-fffe-2b48daee0aa9"
      },
      "outputs": [
        {
          "name": "stdout",
          "output_type": "stream",
          "text": [
            "<class 'pandas.core.frame.DataFrame'>\n",
            "RangeIndex: 49737 entries, 0 to 49736\n",
            "Data columns (total 2 columns):\n",
            " #   Column             Non-Null Count  Dtype         \n",
            "---  ------             --------------  -----         \n",
            " 0   administered_date  49737 non-null  datetime64[ns]\n",
            " 1   total_doses        49737 non-null  int64         \n",
            "dtypes: datetime64[ns](1), int64(1)\n",
            "memory usage: 777.3 KB\n",
            "None\n"
          ]
        },
        {
          "data": {
            "text/html": [
              "<div>\n",
              "<style scoped>\n",
              "    .dataframe tbody tr th:only-of-type {\n",
              "        vertical-align: middle;\n",
              "    }\n",
              "\n",
              "    .dataframe tbody tr th {\n",
              "        vertical-align: top;\n",
              "    }\n",
              "\n",
              "    .dataframe thead th {\n",
              "        text-align: right;\n",
              "    }\n",
              "</style>\n",
              "<table border=\"1\" class=\"dataframe\">\n",
              "  <thead>\n",
              "    <tr style=\"text-align: right;\">\n",
              "      <th></th>\n",
              "      <th>administered_date</th>\n",
              "      <th>total_doses</th>\n",
              "    </tr>\n",
              "  </thead>\n",
              "  <tbody>\n",
              "    <tr>\n",
              "      <th>0</th>\n",
              "      <td>2020-01-05</td>\n",
              "      <td>0</td>\n",
              "    </tr>\n",
              "    <tr>\n",
              "      <th>1</th>\n",
              "      <td>2020-07-27</td>\n",
              "      <td>0</td>\n",
              "    </tr>\n",
              "    <tr>\n",
              "      <th>2</th>\n",
              "      <td>2020-07-30</td>\n",
              "      <td>0</td>\n",
              "    </tr>\n",
              "    <tr>\n",
              "      <th>3</th>\n",
              "      <td>2020-07-31</td>\n",
              "      <td>0</td>\n",
              "    </tr>\n",
              "    <tr>\n",
              "      <th>4</th>\n",
              "      <td>2020-08-01</td>\n",
              "      <td>0</td>\n",
              "    </tr>\n",
              "  </tbody>\n",
              "</table>\n",
              "</div>"
            ],
            "text/plain": [
              "  administered_date  total_doses\n",
              "0        2020-01-05            0\n",
              "1        2020-07-27            0\n",
              "2        2020-07-30            0\n",
              "3        2020-07-31            0\n",
              "4        2020-08-01            0"
            ]
          },
          "execution_count": 917,
          "metadata": {},
          "output_type": "execute_result"
        }
      ],
      "source": [
        "# converting date from datatype to datatime datatype\n",
        "df1['administered_date'] = pd.to_datetime(df1['administered_date'])\n",
        "print(df1.info())\n",
        "df1.head()"
      ]
    },
    {
      "cell_type": "code",
      "execution_count": null,
      "id": "232cab62",
      "metadata": {
        "id": "232cab62",
        "outputId": "a4cae8a0-cfec-41a3-8f92-fa0de7c5c65a"
      },
      "outputs": [
        {
          "data": {
            "text/html": [
              "<div>\n",
              "<style scoped>\n",
              "    .dataframe tbody tr th:only-of-type {\n",
              "        vertical-align: middle;\n",
              "    }\n",
              "\n",
              "    .dataframe tbody tr th {\n",
              "        vertical-align: top;\n",
              "    }\n",
              "\n",
              "    .dataframe thead th {\n",
              "        text-align: right;\n",
              "    }\n",
              "</style>\n",
              "<table border=\"1\" class=\"dataframe\">\n",
              "  <thead>\n",
              "    <tr style=\"text-align: right;\">\n",
              "      <th></th>\n",
              "      <th>total_doses</th>\n",
              "    </tr>\n",
              "  </thead>\n",
              "  <tbody>\n",
              "    <tr>\n",
              "      <th>count</th>\n",
              "      <td>49737.000000</td>\n",
              "    </tr>\n",
              "    <tr>\n",
              "      <th>mean</th>\n",
              "      <td>1705.813961</td>\n",
              "    </tr>\n",
              "    <tr>\n",
              "      <th>std</th>\n",
              "      <td>5877.405980</td>\n",
              "    </tr>\n",
              "    <tr>\n",
              "      <th>min</th>\n",
              "      <td>0.000000</td>\n",
              "    </tr>\n",
              "    <tr>\n",
              "      <th>25%</th>\n",
              "      <td>9.000000</td>\n",
              "    </tr>\n",
              "    <tr>\n",
              "      <th>50%</th>\n",
              "      <td>156.000000</td>\n",
              "    </tr>\n",
              "    <tr>\n",
              "      <th>75%</th>\n",
              "      <td>1047.000000</td>\n",
              "    </tr>\n",
              "    <tr>\n",
              "      <th>max</th>\n",
              "      <td>140186.000000</td>\n",
              "    </tr>\n",
              "  </tbody>\n",
              "</table>\n",
              "</div>"
            ],
            "text/plain": [
              "         total_doses\n",
              "count   49737.000000\n",
              "mean     1705.813961\n",
              "std      5877.405980\n",
              "min         0.000000\n",
              "25%         9.000000\n",
              "50%       156.000000\n",
              "75%      1047.000000\n",
              "max    140186.000000"
            ]
          },
          "execution_count": 918,
          "metadata": {},
          "output_type": "execute_result"
        }
      ],
      "source": [
        "df1.describe()"
      ]
    },
    {
      "cell_type": "code",
      "execution_count": null,
      "id": "cfcd661e",
      "metadata": {
        "id": "cfcd661e",
        "outputId": "d3a88546-dca8-47af-fe25-04ccb8a4e57f"
      },
      "outputs": [
        {
          "name": "stdout",
          "output_type": "stream",
          "text": [
            "   administered_date  total_doses\n",
            "0            2020-01            1\n",
            "1            2020-07           40\n",
            "2            2020-08          959\n",
            "3            2020-09         1882\n",
            "4            2020-10          845\n",
            "5            2020-11          892\n",
            "6            2020-12       562577\n",
            "7            2021-01      3383990\n",
            "8            2021-02      6237303\n",
            "9            2021-03     10348677\n",
            "10           2021-04     11751587\n",
            "11           2021-05      7174430\n",
            "12           2021-06      3503310\n",
            "13           2021-07      2112490\n",
            "14           2021-08      2711819\n",
            "15           2021-09      2493298\n",
            "16           2021-10      3402441\n",
            "17           2021-11      5530503\n",
            "18           2021-12      6300675\n",
            "19           2022-01      4591432\n",
            "20           2022-02      1837788\n",
            "21           2022-03      1059795\n",
            "22           2022-04      1931623\n",
            "23           2022-05      1538555\n",
            "24           2022-06      1197803\n",
            "25           2022-07      1141857\n",
            "26           2022-08       732091\n",
            "27           2022-09      1804981\n",
            "28           2022-10      2486550\n",
            "29           2022-11      1001875\n"
          ]
        }
      ],
      "source": [
        "#convert to the monthly period and then sum the numbers in the period\n",
        "df1['administered_date'] = df1['administered_date'].dt.to_period(\"M\")\n",
        "monthly_vac = df1.groupby('administered_date').sum().reset_index()\n",
        "print(monthly_vac)"
      ]
    },
    {
      "cell_type": "code",
      "execution_count": null,
      "id": "0154af85",
      "metadata": {
        "id": "0154af85"
      },
      "outputs": [],
      "source": [
        "monthly_vac['administered_date'] = monthly_vac['administered_date'].dt.to_timestamp()\n"
      ]
    },
    {
      "cell_type": "markdown",
      "id": "ee884305",
      "metadata": {
        "id": "ee884305"
      },
      "source": [
        "### Step 4.1 Visualize actual doses administered vs periods of elevated cases and deaths"
      ]
    },
    {
      "cell_type": "code",
      "execution_count": null,
      "id": "1078e1da",
      "metadata": {
        "id": "1078e1da",
        "outputId": "167fe703-b83c-4070-99b4-a8de76c70781"
      },
      "outputs": [
        {
          "data": {
            "image/png": "[encoded data removed]",
            "text/plain": [
              "<Figure size 1080x360 with 1 Axes>"
            ]
          },
          "metadata": {},
          "output_type": "display_data"
        }
      ],
      "source": [
        "\n",
        "plt.figure(figsize=(15,5))\n",
        "plt.plot(monthly_vac['administered_date'],monthly_vac['total_doses'])\n",
        "plt.xlabel('Date')\n",
        "plt.ylabel('Number of doses')\n",
        "plt.title('Monthly doses Administered')\n",
        "plt.grid(color='r', axis = 'x', linestyle='--', linewidth=1)\n",
        "plt.show()\n",
        "\n",
        ""
      ]
    },
    {
      "cell_type": "code",
      "execution_count": null,
      "id": "f86faa76",
      "metadata": {
        "id": "f86faa76",
        "outputId": "0693db2a-bb71-49a7-fd48-ba6214076280"
      },
      "outputs": [
        {
          "name": "stdout",
          "output_type": "stream",
          "text": [
            "   administered_date  total_doses  doses_diff\n",
            "1         2020-07-01           40        39.0\n",
            "2         2020-08-01          959       919.0\n",
            "3         2020-09-01         1882       923.0\n",
            "4         2020-10-01          845     -1037.0\n",
            "5         2020-11-01          892        47.0\n",
            "6         2020-12-01       562577    561685.0\n",
            "7         2021-01-01      3383990   2821413.0\n",
            "8         2021-02-01      6237303   2853313.0\n",
            "9         2021-03-01     10348677   4111374.0\n",
            "10        2021-04-01     11751587   1402910.0\n",
            "11        2021-05-01      7174430  -4577157.0\n",
            "12        2021-06-01      3503310  -3671120.0\n",
            "13        2021-07-01      2112490  -1390820.0\n",
            "14        2021-08-01      2711819    599329.0\n",
            "15        2021-09-01      2493298   -218521.0\n",
            "16        2021-10-01      3402441    909143.0\n",
            "17        2021-11-01      5530503   2128062.0\n",
            "18        2021-12-01      6300675    770172.0\n",
            "19        2022-01-01      4591432  -1709243.0\n",
            "20        2022-02-01      1837788  -2753644.0\n",
            "21        2022-03-01      1059795   -777993.0\n",
            "22        2022-04-01      1931623    871828.0\n",
            "23        2022-05-01      1538555   -393068.0\n",
            "24        2022-06-01      1197803   -340752.0\n",
            "25        2022-07-01      1141857    -55946.0\n",
            "26        2022-08-01       732091   -409766.0\n",
            "27        2022-09-01      1804981   1072890.0\n",
            "28        2022-10-01      2486550    681569.0\n",
            "29        2022-11-01      1001875  -1484675.0\n"
          ]
        }
      ],
      "source": [
        "# create a clolumn with the differences on the monthly vaccines\n",
        "# to make this data stationary, increase or decrease in doses\n",
        "monthly_vac['doses_diff'] = monthly_vac['total_doses'].diff()\n",
        "# drop the months where data is not available\n",
        "monthly_vac = monthly_vac.dropna()\n",
        "print(monthly_vac)"
      ]
    },
    {
      "cell_type": "markdown",
      "id": "43240d7b",
      "metadata": {
        "id": "43240d7b"
      },
      "source": [
        "### STEP 4.2 Calulate the sales difference (stationarize time series)"
      ]
    },
    {
      "cell_type": "code",
      "execution_count": null,
      "id": "02d78282",
      "metadata": {
        "id": "02d78282",
        "outputId": "b03c6d41-101f-4b06-d257-257384258a1d"
      },
      "outputs": [
        {
          "data": {
            "image/png": "[encoded data removed]",
            "text/plain": [
              "<Figure size 1080x360 with 1 Axes>"
            ]
          },
          "metadata": {},
          "output_type": "display_data"
        }
      ],
      "source": [
        "plt.figure(figsize=(15,5))\n",
        "plt.plot(monthly_vac['administered_date'],monthly_vac['doses_diff'])\n",
        "plt.xlabel('Date')\n",
        "plt.ylabel('Number of doses')\n",
        "plt.title('Monthly Administered doses  Difference')\n",
        "plt.show()"
      ]
    },
    {
      "cell_type": "code",
      "execution_count": null,
      "id": "b7e367b3",
      "metadata": {
        "id": "b7e367b3",
        "outputId": "410213a5-0aac-4f0d-9f10-91e54cbed8ce"
      },
      "outputs": [
        {
          "name": "stdout",
          "output_type": "stream",
          "text": [
            "   doses_diff\n",
            "1        39.0\n",
            "2       919.0\n",
            "3       923.0\n",
            "4     -1037.0\n",
            "5        47.0\n",
            "(29, 1)\n"
          ]
        }
      ],
      "source": [
        "# dropping off sales and date to deal just with stacionary data\n",
        "df2 = monthly_vac.drop(['administered_date','total_doses'],axis=1)\n",
        "print(df2.head())\n",
        "print(df2.shape)"
      ]
    },
    {
      "cell_type": "markdown",
      "id": "3dacfbf0",
      "metadata": {
        "id": "3dacfbf0"
      },
      "source": [
        "### STEP 4.3 create the variables for month lag from 1 to 12"
      ]
    },
    {
      "cell_type": "code",
      "execution_count": null,
      "id": "e884e371",
      "metadata": {
        "id": "e884e371",
        "outputId": "117b4dc5-3a3f-4b1c-c670-4e68af1c6ce7"
      },
      "outputs": [
        {
          "name": "stdout",
          "output_type": "stream",
          "text": [
            "   doses_diff  week_1  week_2  week_3  week_4  week_5  week_6  week_7  week_8  \\\n",
            "1        39.0     NaN     NaN     NaN     NaN     NaN     NaN     NaN     NaN   \n",
            "2       919.0    39.0     NaN     NaN     NaN     NaN     NaN     NaN     NaN   \n",
            "3       923.0   919.0    39.0     NaN     NaN     NaN     NaN     NaN     NaN   \n",
            "4     -1037.0   923.0   919.0    39.0     NaN     NaN     NaN     NaN     NaN   \n",
            "5        47.0 -1037.0   923.0   919.0    39.0     NaN     NaN     NaN     NaN   \n",
            "\n",
            "   week_9  week_10  week_11  week_12  \n",
            "1     NaN      NaN      NaN      NaN  \n",
            "2     NaN      NaN      NaN      NaN  \n",
            "3     NaN      NaN      NaN      NaN  \n",
            "4     NaN      NaN      NaN      NaN  \n",
            "5     NaN      NaN      NaN      NaN  \n"
          ]
        },
        {
          "data": {
            "text/html": [
              "<div>\n",
              "<style scoped>\n",
              "    .dataframe tbody tr th:only-of-type {\n",
              "        vertical-align: middle;\n",
              "    }\n",
              "\n",
              "    .dataframe tbody tr th {\n",
              "        vertical-align: top;\n",
              "    }\n",
              "\n",
              "    .dataframe thead th {\n",
              "        text-align: right;\n",
              "    }\n",
              "</style>\n",
              "<table border=\"1\" class=\"dataframe\">\n",
              "  <thead>\n",
              "    <tr style=\"text-align: right;\">\n",
              "      <th></th>\n",
              "      <th>doses_diff</th>\n",
              "      <th>week_1</th>\n",
              "      <th>week_2</th>\n",
              "      <th>week_3</th>\n",
              "      <th>week_4</th>\n",
              "      <th>week_5</th>\n",
              "      <th>week_6</th>\n",
              "      <th>week_7</th>\n",
              "      <th>week_8</th>\n",
              "      <th>week_9</th>\n",
              "      <th>week_10</th>\n",
              "      <th>week_11</th>\n",
              "      <th>week_12</th>\n",
              "    </tr>\n",
              "  </thead>\n",
              "  <tbody>\n",
              "    <tr>\n",
              "      <th>0</th>\n",
              "      <td>-1390820.0</td>\n",
              "      <td>-3671120.0</td>\n",
              "      <td>-4577157.0</td>\n",
              "      <td>1402910.0</td>\n",
              "      <td>4111374.0</td>\n",
              "      <td>2853313.0</td>\n",
              "      <td>2821413.0</td>\n",
              "      <td>561685.0</td>\n",
              "      <td>47.0</td>\n",
              "      <td>-1037.0</td>\n",
              "      <td>923.0</td>\n",
              "      <td>919.0</td>\n",
              "      <td>39.0</td>\n",
              "    </tr>\n",
              "    <tr>\n",
              "      <th>1</th>\n",
              "      <td>599329.0</td>\n",
              "      <td>-1390820.0</td>\n",
              "      <td>-3671120.0</td>\n",
              "      <td>-4577157.0</td>\n",
              "      <td>1402910.0</td>\n",
              "      <td>4111374.0</td>\n",
              "      <td>2853313.0</td>\n",
              "      <td>2821413.0</td>\n",
              "      <td>561685.0</td>\n",
              "      <td>47.0</td>\n",
              "      <td>-1037.0</td>\n",
              "      <td>923.0</td>\n",
              "      <td>919.0</td>\n",
              "    </tr>\n",
              "    <tr>\n",
              "      <th>2</th>\n",
              "      <td>-218521.0</td>\n",
              "      <td>599329.0</td>\n",
              "      <td>-1390820.0</td>\n",
              "      <td>-3671120.0</td>\n",
              "      <td>-4577157.0</td>\n",
              "      <td>1402910.0</td>\n",
              "      <td>4111374.0</td>\n",
              "      <td>2853313.0</td>\n",
              "      <td>2821413.0</td>\n",
              "      <td>561685.0</td>\n",
              "      <td>47.0</td>\n",
              "      <td>-1037.0</td>\n",
              "      <td>923.0</td>\n",
              "    </tr>\n",
              "    <tr>\n",
              "      <th>3</th>\n",
              "      <td>909143.0</td>\n",
              "      <td>-218521.0</td>\n",
              "      <td>599329.0</td>\n",
              "      <td>-1390820.0</td>\n",
              "      <td>-3671120.0</td>\n",
              "      <td>-4577157.0</td>\n",
              "      <td>1402910.0</td>\n",
              "      <td>4111374.0</td>\n",
              "      <td>2853313.0</td>\n",
              "      <td>2821413.0</td>\n",
              "      <td>561685.0</td>\n",
              "      <td>47.0</td>\n",
              "      <td>-1037.0</td>\n",
              "    </tr>\n",
              "    <tr>\n",
              "      <th>4</th>\n",
              "      <td>2128062.0</td>\n",
              "      <td>909143.0</td>\n",
              "      <td>-218521.0</td>\n",
              "      <td>599329.0</td>\n",
              "      <td>-1390820.0</td>\n",
              "      <td>-3671120.0</td>\n",
              "      <td>-4577157.0</td>\n",
              "      <td>1402910.0</td>\n",
              "      <td>4111374.0</td>\n",
              "      <td>2853313.0</td>\n",
              "      <td>2821413.0</td>\n",
              "      <td>561685.0</td>\n",
              "      <td>47.0</td>\n",
              "    </tr>\n",
              "    <tr>\n",
              "      <th>5</th>\n",
              "      <td>770172.0</td>\n",
              "      <td>2128062.0</td>\n",
              "      <td>909143.0</td>\n",
              "      <td>-218521.0</td>\n",
              "      <td>599329.0</td>\n",
              "      <td>-1390820.0</td>\n",
              "      <td>-3671120.0</td>\n",
              "      <td>-4577157.0</td>\n",
              "      <td>1402910.0</td>\n",
              "      <td>4111374.0</td>\n",
              "      <td>2853313.0</td>\n",
              "      <td>2821413.0</td>\n",
              "      <td>561685.0</td>\n",
              "    </tr>\n",
              "    <tr>\n",
              "      <th>6</th>\n",
              "      <td>-1709243.0</td>\n",
              "      <td>770172.0</td>\n",
              "      <td>2128062.0</td>\n",
              "      <td>909143.0</td>\n",
              "      <td>-218521.0</td>\n",
              "      <td>599329.0</td>\n",
              "      <td>-1390820.0</td>\n",
              "      <td>-3671120.0</td>\n",
              "      <td>-4577157.0</td>\n",
              "      <td>1402910.0</td>\n",
              "      <td>4111374.0</td>\n",
              "      <td>2853313.0</td>\n",
              "      <td>2821413.0</td>\n",
              "    </tr>\n",
              "    <tr>\n",
              "      <th>7</th>\n",
              "      <td>-2753644.0</td>\n",
              "      <td>-1709243.0</td>\n",
              "      <td>770172.0</td>\n",
              "      <td>2128062.0</td>\n",
              "      <td>909143.0</td>\n",
              "      <td>-218521.0</td>\n",
              "      <td>599329.0</td>\n",
              "      <td>-1390820.0</td>\n",
              "      <td>-3671120.0</td>\n",
              "      <td>-4577157.0</td>\n",
              "      <td>1402910.0</td>\n",
              "      <td>4111374.0</td>\n",
              "      <td>2853313.0</td>\n",
              "    </tr>\n",
              "    <tr>\n",
              "      <th>8</th>\n",
              "      <td>-777993.0</td>\n",
              "      <td>-2753644.0</td>\n",
              "      <td>-1709243.0</td>\n",
              "      <td>770172.0</td>\n",
              "      <td>2128062.0</td>\n",
              "      <td>909143.0</td>\n",
              "      <td>-218521.0</td>\n",
              "      <td>599329.0</td>\n",
              "      <td>-1390820.0</td>\n",
              "      <td>-3671120.0</td>\n",
              "      <td>-4577157.0</td>\n",
              "      <td>1402910.0</td>\n",
              "      <td>4111374.0</td>\n",
              "    </tr>\n",
              "    <tr>\n",
              "      <th>9</th>\n",
              "      <td>871828.0</td>\n",
              "      <td>-777993.0</td>\n",
              "      <td>-2753644.0</td>\n",
              "      <td>-1709243.0</td>\n",
              "      <td>770172.0</td>\n",
              "      <td>2128062.0</td>\n",
              "      <td>909143.0</td>\n",
              "      <td>-218521.0</td>\n",
              "      <td>599329.0</td>\n",
              "      <td>-1390820.0</td>\n",
              "      <td>-3671120.0</td>\n",
              "      <td>-4577157.0</td>\n",
              "      <td>1402910.0</td>\n",
              "    </tr>\n",
              "    <tr>\n",
              "      <th>10</th>\n",
              "      <td>-393068.0</td>\n",
              "      <td>871828.0</td>\n",
              "      <td>-777993.0</td>\n",
              "      <td>-2753644.0</td>\n",
              "      <td>-1709243.0</td>\n",
              "      <td>770172.0</td>\n",
              "      <td>2128062.0</td>\n",
              "      <td>909143.0</td>\n",
              "      <td>-218521.0</td>\n",
              "      <td>599329.0</td>\n",
              "      <td>-1390820.0</td>\n",
              "      <td>-3671120.0</td>\n",
              "      <td>-4577157.0</td>\n",
              "    </tr>\n",
              "    <tr>\n",
              "      <th>11</th>\n",
              "      <td>-340752.0</td>\n",
              "      <td>-393068.0</td>\n",
              "      <td>871828.0</td>\n",
              "      <td>-777993.0</td>\n",
              "      <td>-2753644.0</td>\n",
              "      <td>-1709243.0</td>\n",
              "      <td>770172.0</td>\n",
              "      <td>2128062.0</td>\n",
              "      <td>909143.0</td>\n",
              "      <td>-218521.0</td>\n",
              "      <td>599329.0</td>\n",
              "      <td>-1390820.0</td>\n",
              "      <td>-3671120.0</td>\n",
              "    </tr>\n",
              "    <tr>\n",
              "      <th>12</th>\n",
              "      <td>-55946.0</td>\n",
              "      <td>-340752.0</td>\n",
              "      <td>-393068.0</td>\n",
              "      <td>871828.0</td>\n",
              "      <td>-777993.0</td>\n",
              "      <td>-2753644.0</td>\n",
              "      <td>-1709243.0</td>\n",
              "      <td>770172.0</td>\n",
              "      <td>2128062.0</td>\n",
              "      <td>909143.0</td>\n",
              "      <td>-218521.0</td>\n",
              "      <td>599329.0</td>\n",
              "      <td>-1390820.0</td>\n",
              "    </tr>\n",
              "    <tr>\n",
              "      <th>13</th>\n",
              "      <td>-409766.0</td>\n",
              "      <td>-55946.0</td>\n",
              "      <td>-340752.0</td>\n",
              "      <td>-393068.0</td>\n",
              "      <td>871828.0</td>\n",
              "      <td>-777993.0</td>\n",
              "      <td>-2753644.0</td>\n",
              "      <td>-1709243.0</td>\n",
              "      <td>770172.0</td>\n",
              "      <td>2128062.0</td>\n",
              "      <td>909143.0</td>\n",
              "      <td>-218521.0</td>\n",
              "      <td>599329.0</td>\n",
              "    </tr>\n",
              "    <tr>\n",
              "      <th>14</th>\n",
              "      <td>1072890.0</td>\n",
              "      <td>-409766.0</td>\n",
              "      <td>-55946.0</td>\n",
              "      <td>-340752.0</td>\n",
              "      <td>-393068.0</td>\n",
              "      <td>871828.0</td>\n",
              "      <td>-777993.0</td>\n",
              "      <td>-2753644.0</td>\n",
              "      <td>-1709243.0</td>\n",
              "      <td>770172.0</td>\n",
              "      <td>2128062.0</td>\n",
              "      <td>909143.0</td>\n",
              "      <td>-218521.0</td>\n",
              "    </tr>\n",
              "    <tr>\n",
              "      <th>15</th>\n",
              "      <td>681569.0</td>\n",
              "      <td>1072890.0</td>\n",
              "      <td>-409766.0</td>\n",
              "      <td>-55946.0</td>\n",
              "      <td>-340752.0</td>\n",
              "      <td>-393068.0</td>\n",
              "      <td>871828.0</td>\n",
              "      <td>-777993.0</td>\n",
              "      <td>-2753644.0</td>\n",
              "      <td>-1709243.0</td>\n",
              "      <td>770172.0</td>\n",
              "      <td>2128062.0</td>\n",
              "      <td>909143.0</td>\n",
              "    </tr>\n",
              "    <tr>\n",
              "      <th>16</th>\n",
              "      <td>-1484675.0</td>\n",
              "      <td>681569.0</td>\n",
              "      <td>1072890.0</td>\n",
              "      <td>-409766.0</td>\n",
              "      <td>-55946.0</td>\n",
              "      <td>-340752.0</td>\n",
              "      <td>-393068.0</td>\n",
              "      <td>871828.0</td>\n",
              "      <td>-777993.0</td>\n",
              "      <td>-2753644.0</td>\n",
              "      <td>-1709243.0</td>\n",
              "      <td>770172.0</td>\n",
              "      <td>2128062.0</td>\n",
              "    </tr>\n",
              "  </tbody>\n",
              "</table>\n",
              "</div>"
            ],
            "text/plain": [
              "    doses_diff     week_1     week_2     week_3     week_4     week_5  \\\n",
              "0   -1390820.0 -3671120.0 -4577157.0  1402910.0  4111374.0  2853313.0   \n",
              "1     599329.0 -1390820.0 -3671120.0 -4577157.0  1402910.0  4111374.0   \n",
              "2    -218521.0   599329.0 -1390820.0 -3671120.0 -4577157.0  1402910.0   \n",
              "3     909143.0  -218521.0   599329.0 -1390820.0 -3671120.0 -4577157.0   \n",
              "4    2128062.0   909143.0  -218521.0   599329.0 -1390820.0 -3671120.0   \n",
              "5     770172.0  2128062.0   909143.0  -218521.0   599329.0 -1390820.0   \n",
              "6   -1709243.0   770172.0  2128062.0   909143.0  -218521.0   599329.0   \n",
              "7   -2753644.0 -1709243.0   770172.0  2128062.0   909143.0  -218521.0   \n",
              "8    -777993.0 -2753644.0 -1709243.0   770172.0  2128062.0   909143.0   \n",
              "9     871828.0  -777993.0 -2753644.0 -1709243.0   770172.0  2128062.0   \n",
              "10   -393068.0   871828.0  -777993.0 -2753644.0 -1709243.0   770172.0   \n",
              "11   -340752.0  -393068.0   871828.0  -777993.0 -2753644.0 -1709243.0   \n",
              "12    -55946.0  -340752.0  -393068.0   871828.0  -777993.0 -2753644.0   \n",
              "13   -409766.0   -55946.0  -340752.0  -393068.0   871828.0  -777993.0   \n",
              "14   1072890.0  -409766.0   -55946.0  -340752.0  -393068.0   871828.0   \n",
              "15    681569.0  1072890.0  -409766.0   -55946.0  -340752.0  -393068.0   \n",
              "16  -1484675.0   681569.0  1072890.0  -409766.0   -55946.0  -340752.0   \n",
              "\n",
              "       week_6     week_7     week_8     week_9    week_10    week_11  \\\n",
              "0   2821413.0   561685.0       47.0    -1037.0      923.0      919.0   \n",
              "1   2853313.0  2821413.0   561685.0       47.0    -1037.0      923.0   \n",
              "2   4111374.0  2853313.0  2821413.0   561685.0       47.0    -1037.0   \n",
              "3   1402910.0  4111374.0  2853313.0  2821413.0   561685.0       47.0   \n",
              "4  -4577157.0  1402910.0  4111374.0  2853313.0  2821413.0   561685.0   \n",
              "5  -3671120.0 -4577157.0  1402910.0  4111374.0  2853313.0  2821413.0   \n",
              "6  -1390820.0 -3671120.0 -4577157.0  1402910.0  4111374.0  2853313.0   \n",
              "7    599329.0 -1390820.0 -3671120.0 -4577157.0  1402910.0  4111374.0   \n",
              "8   -218521.0   599329.0 -1390820.0 -3671120.0 -4577157.0  1402910.0   \n",
              "9    909143.0  -218521.0   599329.0 -1390820.0 -3671120.0 -4577157.0   \n",
              "10  2128062.0   909143.0  -218521.0   599329.0 -1390820.0 -3671120.0   \n",
              "11   770172.0  2128062.0   909143.0  -218521.0   599329.0 -1390820.0   \n",
              "12 -1709243.0   770172.0  2128062.0   909143.0  -218521.0   599329.0   \n",
              "13 -2753644.0 -1709243.0   770172.0  2128062.0   909143.0  -218521.0   \n",
              "14  -777993.0 -2753644.0 -1709243.0   770172.0  2128062.0   909143.0   \n",
              "15   871828.0  -777993.0 -2753644.0 -1709243.0   770172.0  2128062.0   \n",
              "16  -393068.0   871828.0  -777993.0 -2753644.0 -1709243.0   770172.0   \n",
              "\n",
              "      week_12  \n",
              "0        39.0  \n",
              "1       919.0  \n",
              "2       923.0  \n",
              "3     -1037.0  \n",
              "4        47.0  \n",
              "5    561685.0  \n",
              "6   2821413.0  \n",
              "7   2853313.0  \n",
              "8   4111374.0  \n",
              "9   1402910.0  \n",
              "10 -4577157.0  \n",
              "11 -3671120.0  \n",
              "12 -1390820.0  \n",
              "13   599329.0  \n",
              "14  -218521.0  \n",
              "15   909143.0  \n",
              "16  2128062.0  "
            ]
          },
          "execution_count": 898,
          "metadata": {},
          "output_type": "execute_result"
        }
      ],
      "source": [
        "# Preparing the supervised data\n",
        "for i in range(1,13):\n",
        "    col_name = 'week_' + str(i)\n",
        "    df2[col_name] = df2['doses_diff'].shift(i)\n",
        "print(df2.head())\n",
        "df2 = df2.dropna().reset_index(drop=True)\n",
        "df2.head(29)"
      ]
    },
    {
      "cell_type": "code",
      "execution_count": null,
      "id": "c62bfd3d",
      "metadata": {
        "id": "c62bfd3d",
        "outputId": "ad7dc581-111e-499d-e9d3-c8e6545b8970"
      },
      "outputs": [
        {
          "data": {
            "text/plain": [
              "(17, 13)"
            ]
          },
          "execution_count": 899,
          "metadata": {},
          "output_type": "execute_result"
        }
      ],
      "source": [
        "df2.shape"
      ]
    },
    {
      "cell_type": "markdown",
      "id": "c52148a9",
      "metadata": {
        "id": "c52148a9"
      },
      "source": [
        "## STEP 5: Split the data in training and test"
      ]
    },
    {
      "cell_type": "code",
      "execution_count": null,
      "id": "015f073f",
      "metadata": {
        "id": "015f073f",
        "outputId": "cb3e2396-1c67-48a8-db14-ccbfd6768143"
      },
      "outputs": [
        {
          "name": "stdout",
          "output_type": "stream",
          "text": [
            "Train data Shape (11, 13)\n",
            "Test data Shape (6, 13)\n"
          ]
        }
      ],
      "source": [
        "# split the data between train and test data\n",
        "df2_train = df2.iloc[:-6]\n",
        "#print(df2_train.head())\n",
        "df2_test = df2.iloc[-6:]\n",
        "#print(df2_test.head())\n",
        "print(\"Train data Shape\", df2_train.shape)\n",
        "print(\"Test data Shape\", df2_test.shape)"
      ]
    },
    {
      "cell_type": "markdown",
      "id": "8f570df0",
      "metadata": {
        "id": "8f570df0"
      },
      "source": [
        "### STEP 5.1 Transform the data in smaller scale"
      ]
    },
    {
      "cell_type": "code",
      "execution_count": null,
      "id": "3f51e0fa",
      "metadata": {
        "id": "3f51e0fa"
      },
      "outputs": [],
      "source": [
        "#scale the values between -1 and 1\n",
        "scaler =MinMaxScaler(feature_range=(-1,1))\n",
        "scaler.fit(df2_train)\n",
        "df2_train = scaler.transform(df2_train)\n",
        "df2_test = scaler.transform(df2_test)"
      ]
    },
    {
      "cell_type": "markdown",
      "id": "cf9b7e36",
      "metadata": {
        "id": "cf9b7e36"
      },
      "source": [
        "### STEP 5.2 Get the X and Y variables fot training and test data"
      ]
    },
    {
      "cell_type": "code",
      "execution_count": null,
      "id": "b9af4b49",
      "metadata": {
        "id": "b9af4b49",
        "outputId": "a1970949-bca8-4b9e-e2a2-5b02663eaab5"
      },
      "outputs": [
        {
          "name": "stdout",
          "output_type": "stream",
          "text": [
            "X_train Shape (11, 12)\n",
            "Y_train Shape (11,)\n",
            "X_test Shape (6, 12)\n",
            "Y_test Shape (6,)\n"
          ]
        }
      ],
      "source": [
        "X_train, Y_train = df2_train[:,1:], df2_train[:,0:1]\n",
        "X_test, Y_test = df2_test[:,1:], df2_test[:,0:1]\n",
        "Y_train = Y_train.ravel()\n",
        "Y_test = Y_test.ravel()\n",
        "print('X_train Shape', X_train.shape)\n",
        "print('Y_train Shape', Y_train.shape)\n",
        "print('X_test Shape', X_test.shape)\n",
        "print('Y_test Shape', Y_test.shape)\n"
      ]
    },
    {
      "cell_type": "code",
      "execution_count": null,
      "id": "95d65d59",
      "metadata": {
        "id": "95d65d59"
      },
      "outputs": [],
      "source": [
        "# Make a prediction data frame to merge the predicted\n",
        "doses_dates = monthly_vac['administered_date'][-6:].reset_index(drop=True)"
      ]
    },
    {
      "cell_type": "code",
      "execution_count": null,
      "id": "a8001e8d",
      "metadata": {
        "id": "a8001e8d",
        "outputId": "7a033823-4d59-4fca-e749-594d2f60a45e"
      },
      "outputs": [
        {
          "data": {
            "text/html": [
              "<div>\n",
              "<style scoped>\n",
              "    .dataframe tbody tr th:only-of-type {\n",
              "        vertical-align: middle;\n",
              "    }\n",
              "\n",
              "    .dataframe tbody tr th {\n",
              "        vertical-align: top;\n",
              "    }\n",
              "\n",
              "    .dataframe thead th {\n",
              "        text-align: right;\n",
              "    }\n",
              "</style>\n",
              "<table border=\"1\" class=\"dataframe\">\n",
              "  <thead>\n",
              "    <tr style=\"text-align: right;\">\n",
              "      <th></th>\n",
              "      <th>administered_date</th>\n",
              "    </tr>\n",
              "  </thead>\n",
              "  <tbody>\n",
              "    <tr>\n",
              "      <th>0</th>\n",
              "      <td>2022-06-01</td>\n",
              "    </tr>\n",
              "    <tr>\n",
              "      <th>1</th>\n",
              "      <td>2022-07-01</td>\n",
              "    </tr>\n",
              "    <tr>\n",
              "      <th>2</th>\n",
              "      <td>2022-08-01</td>\n",
              "    </tr>\n",
              "    <tr>\n",
              "      <th>3</th>\n",
              "      <td>2022-09-01</td>\n",
              "    </tr>\n",
              "    <tr>\n",
              "      <th>4</th>\n",
              "      <td>2022-10-01</td>\n",
              "    </tr>\n",
              "  </tbody>\n",
              "</table>\n",
              "</div>"
            ],
            "text/plain": [
              "  administered_date\n",
              "0        2022-06-01\n",
              "1        2022-07-01\n",
              "2        2022-08-01\n",
              "3        2022-09-01\n",
              "4        2022-10-01"
            ]
          },
          "execution_count": 904,
          "metadata": {},
          "output_type": "execute_result"
        }
      ],
      "source": [
        "predict_df = pd.DataFrame(doses_dates)\n",
        "predict_df.head()"
      ]
    },
    {
      "cell_type": "code",
      "execution_count": null,
      "id": "360a6906",
      "metadata": {
        "id": "360a6906",
        "outputId": "a95c4a53-8f50-40b4-fc7f-4215f8d40262"
      },
      "outputs": [
        {
          "name": "stdout",
          "output_type": "stream",
          "text": [
            "[1538555, 1197803, 1141857, 732091, 1804981, 2486550, 1001875]\n"
          ]
        }
      ],
      "source": [
        "act_doses = monthly_vac['total_doses'][-7:].to_list()\n",
        "print(act_doses)"
      ]
    },
    {
      "cell_type": "markdown",
      "id": "37cd5e20",
      "metadata": {
        "id": "37cd5e20"
      },
      "source": [
        "## STEP 6: Build and and train the Model"
      ]
    },
    {
      "cell_type": "code",
      "execution_count": null,
      "id": "ea73541a",
      "metadata": {
        "id": "ea73541a"
      },
      "outputs": [],
      "source": [
        "# Create the linear regression model and predicted output\n",
        "model = LinearRegression()\n",
        "model.fit(X_train, Y_train)\n",
        "lr_pre = model.predict(X_test)"
      ]
    },
    {
      "cell_type": "markdown",
      "id": "ebb4c441",
      "metadata": {
        "id": "ebb4c441"
      },
      "source": [
        "### STEP 6.1 Transform the data back to original scale"
      ]
    },
    {
      "cell_type": "code",
      "execution_count": null,
      "id": "928be543",
      "metadata": {
        "id": "928be543"
      },
      "outputs": [],
      "source": [
        "# transform the values back to the original scale\n",
        "lr_pre = lr_pre.reshape(-1,1)\n",
        "# Create a matrix with the X test and predicted doses\n",
        "lr_pre_test_set = np.concatenate([lr_pre, X_test], axis=1)\n",
        "lr_pre_test_set = scaler.inverse_transform(lr_pre_test_set)\n"
      ]
    },
    {
      "cell_type": "code",
      "execution_count": null,
      "id": "3206d849",
      "metadata": {
        "id": "3206d849",
        "outputId": "38cc8584-e0c3-47f9-c68e-fbdf43c38d29"
      },
      "outputs": [
        {
          "name": "stdout",
          "output_type": "stream",
          "text": [
            "(6, 2)\n",
            "(29, 3)\n"
          ]
        },
        {
          "data": {
            "text/html": [
              "<div>\n",
              "<style scoped>\n",
              "    .dataframe tbody tr th:only-of-type {\n",
              "        vertical-align: middle;\n",
              "    }\n",
              "\n",
              "    .dataframe tbody tr th {\n",
              "        vertical-align: top;\n",
              "    }\n",
              "\n",
              "    .dataframe thead th {\n",
              "        text-align: right;\n",
              "    }\n",
              "</style>\n",
              "<table border=\"1\" class=\"dataframe\">\n",
              "  <thead>\n",
              "    <tr style=\"text-align: right;\">\n",
              "      <th></th>\n",
              "      <th>administered_date</th>\n",
              "      <th>Linear Prediction</th>\n",
              "    </tr>\n",
              "  </thead>\n",
              "  <tbody>\n",
              "    <tr>\n",
              "      <th>0</th>\n",
              "      <td>2022-06-01</td>\n",
              "      <td>9.121751e+05</td>\n",
              "    </tr>\n",
              "    <tr>\n",
              "      <th>1</th>\n",
              "      <td>2022-07-01</td>\n",
              "      <td>1.345304e+06</td>\n",
              "    </tr>\n",
              "    <tr>\n",
              "      <th>2</th>\n",
              "      <td>2022-08-01</td>\n",
              "      <td>2.185924e+06</td>\n",
              "    </tr>\n",
              "    <tr>\n",
              "      <th>3</th>\n",
              "      <td>2022-09-01</td>\n",
              "      <td>-2.875892e+05</td>\n",
              "    </tr>\n",
              "    <tr>\n",
              "      <th>4</th>\n",
              "      <td>2022-10-01</td>\n",
              "      <td>2.787490e+05</td>\n",
              "    </tr>\n",
              "    <tr>\n",
              "      <th>5</th>\n",
              "      <td>2022-11-01</td>\n",
              "      <td>2.186271e+06</td>\n",
              "    </tr>\n",
              "  </tbody>\n",
              "</table>\n",
              "</div>"
            ],
            "text/plain": [
              "  administered_date  Linear Prediction\n",
              "0        2022-06-01       9.121751e+05\n",
              "1        2022-07-01       1.345304e+06\n",
              "2        2022-08-01       2.185924e+06\n",
              "3        2022-09-01      -2.875892e+05\n",
              "4        2022-10-01       2.787490e+05\n",
              "5        2022-11-01       2.186271e+06"
            ]
          },
          "execution_count": 908,
          "metadata": {},
          "output_type": "execute_result"
        }
      ],
      "source": [
        "result_list = []\n",
        "for i2 in range(0, len(lr_pre_test_set)):\n",
        "    result_list.append(lr_pre_test_set[i2][0] + act_doses[i2])\n",
        "lr_pre_series = pd.Series(result_list, name = 'Linear Prediction')\n",
        "predict_df = predict_df.merge(lr_pre_series, left_index = True, right_index = True)\n",
        "print(predict_df.shape)\n",
        "print(monthly_vac.shape)\n",
        "predict_df\n"
      ]
    },
    {
      "cell_type": "markdown",
      "id": "22332642",
      "metadata": {
        "id": "22332642"
      },
      "source": [
        "## STEP 7: Model Evaluation"
      ]
    },
    {
      "cell_type": "code",
      "execution_count": null,
      "id": "4320e5fe",
      "metadata": {
        "id": "4320e5fe",
        "outputId": "18165e08-f2b0-413d-e88d-db1d47de9065"
      },
      "outputs": [
        {
          "name": "stdout",
          "output_type": "stream",
          "text": [
            "Linear regression MSE 1465869.1299511846\n",
            "Linear regression MAE 1237945.9093991949\n",
            "Linear regression R2 -1.55074773726906\n"
          ]
        }
      ],
      "source": [
        "# Evaluation of the model : Calculate the the meanSquared error, MAE and R2\n",
        "lr_mse = np.sqrt(mean_squared_error(predict_df['Linear Prediction'], monthly_vac['total_doses'][-6:]))\n",
        "lr_mae = mean_absolute_error(predict_df['Linear Prediction'],monthly_vac['total_doses'][-6:])\n",
        "lr_r2 = r2_score(predict_df['Linear Prediction'],monthly_vac['total_doses'][-6:])\n",
        "print('Linear regression MSE', lr_mse )\n",
        "print('Linear regression MAE', lr_mae )\n",
        "print('Linear regression R2', lr_r2 )"
      ]
    },
    {
      "cell_type": "markdown",
      "id": "085c25c8",
      "metadata": {
        "id": "085c25c8"
      },
      "source": [
        "## STEP 8: Visualization of predictions"
      ]
    },
    {
      "cell_type": "code",
      "execution_count": null,
      "id": "38242a48",
      "metadata": {
        "scrolled": true,
        "id": "38242a48",
        "outputId": "08b509d0-6644-4881-e9b7-f124c4fd7f08"
      },
      "outputs": [
        {
          "data": {
            "image/png": "[encoded data removed]",
            "text/plain": [
              "<Figure size 1080x360 with 1 Axes>"
            ]
          },
          "metadata": {},
          "output_type": "display_data"
        }
      ],
      "source": [
        "#Visualize the prediction\n",
        "plt.figure(figsize=(15,5))\n",
        "# actual sales\n",
        "plt.plot(monthly_vac['administered_date'], monthly_vac['total_doses'])\n",
        "# predicted sales\n",
        "plt.plot(predict_df['administered_date'],predict_df['Linear Prediction'])\n",
        "plt.title(\"Future vaccine requirements using Linear Regression\")\n",
        "plt.xlabel(\"Date\")\n",
        "plt.ylabel(\"Doses Required\")\n",
        "plt.legend(['Actual Doses', 'Predicted Doses'])\n",
        "plt.show()"
      ]
    },
    {
      "cell_type": "code",
      "execution_count": null,
      "id": "9069b739",
      "metadata": {
        "id": "9069b739"
      },
      "outputs": [],
      "source": []
    }
  ],
  "metadata": {
    "kernelspec": {
      "display_name": "Python 3 (ipykernel)",
      "language": "python",
      "name": "python3"
    },
    "language_info": {
      "codemirror_mode": {
        "name": "ipython",
        "version": 3
      },
      "file_extension": ".py",
      "mimetype": "text/x-python",
      "name": "python",
      "nbconvert_exporter": "python",
      "pygments_lexer": "ipython3",
      "version": "3.9.12"
    },
    "colab": {
      "provenance": [],
      "include_colab_link": true
    }
  },
  "nbformat": 4,
  "nbformat_minor": 5
}
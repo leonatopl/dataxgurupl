{
  "cells": [
    {
      "cell_type": "markdown",
      "metadata": {
        "id": "view-in-github",
        "colab_type": "text"
      },
      "source": [
        "<a href=\"https://colab.research.google.com/github/leonatopl/dataxgurupl/blob/master/Forecast_vacc_4weekslag.ipynb\" target=\"_parent\"><img src=\"https://colab.research.google.com/assets/colab-badge.svg\" alt=\"Open In Colab\"/></a>"
      ]
    },
    {
      "cell_type": "markdown",
      "id": "647979d1",
      "metadata": {
        "id": "647979d1"
      },
      "source": [
        "# <center> <font color='blue'> Group 2 - Final Project - November 26th, 2022 </center> </font>"
      ]
    },
    {
      "cell_type": "markdown",
      "id": "8bfa8d1d",
      "metadata": {
        "id": "8bfa8d1d"
      },
      "source": [
        "# <center><font color=green>Time Series - Linear Regression</font> </center>"
      ]
    },
    {
      "cell_type": "markdown",
      "id": "fdf7b301",
      "metadata": {
        "id": "fdf7b301"
      },
      "source": [
        "##  Approach: Machine Learning Supervised Linear Regression"
      ]
    },
    {
      "cell_type": "markdown",
      "id": "d4ab2938",
      "metadata": {
        "id": "d4ab2938"
      },
      "source": [
        "![SL.jpg](attachment:SL.jpg)\n",
        "\n",
        "- This model was retrieved from the course materils on canvas. https://unt.instructure.com/courses/75716/modules"
      ]
    },
    {
      "cell_type": "markdown",
      "id": "96fe9938",
      "metadata": {
        "id": "96fe9938"
      },
      "source": [
        "## STEP 1: Import Libraries"
      ]
    },
    {
      "cell_type": "code",
      "execution_count": null,
      "id": "ae296bd7",
      "metadata": {
        "id": "ae296bd7"
      },
      "outputs": [],
      "source": [
        "#Importing nececcary libraries\n",
        "import numpy as np\n",
        "import pandas as pd\n",
        "\n",
        "from pandas.plotting import scatter_matrix\n",
        "from sklearn.linear_model import LinearRegression\n",
        "from sklearn.preprocessing import MinMaxScaler\n",
        "from sklearn.metrics import mean_absolute_error,mean_squared_error,r2_score\n",
        "\n",
        "from sklearn.model_selection import train_test_split\n",
        "from sklearn.model_selection import KFold\n",
        "from sklearn.model_selection import cross_val_score\n",
        "\n",
        "import matplotlib.pyplot as plt\n",
        "\n",
        "\n",
        "import seaborn as sns\n",
        "sns.set(color_codes=True)\n",
        "\n",
        "# filter warnings\n",
        "import warnings\n",
        "warnings.filterwarnings('ignore')\n",
        "\n"
      ]
    },
    {
      "cell_type": "markdown",
      "id": "1b8d624c",
      "metadata": {
        "id": "1b8d624c"
      },
      "source": [
        "## <font color=grey> WORKFLOW: DATA SET </font>"
      ]
    },
    {
      "cell_type": "markdown",
      "id": "06e8bd5a",
      "metadata": {
        "id": "06e8bd5a"
      },
      "source": [
        "## STEP 2: Data description and Load the Data\n",
        "\n",
        "Dataset was retrieved from https://data.chhs.ca.gov/dataset/vaccine-progress-dashboard"
      ]
    },
    {
      "cell_type": "code",
      "execution_count": null,
      "id": "5e17682c",
      "metadata": {
        "id": "5e17682c"
      },
      "outputs": [],
      "source": [
        "#Dataset location\n",
        "covid_vaccines = 'covid19vaccineCleaned.csv'"
      ]
    },
    {
      "cell_type": "code",
      "execution_count": null,
      "id": "86b8695b",
      "metadata": {
        "id": "86b8695b"
      },
      "outputs": [],
      "source": [
        "#Using Pandas DataFrame to load the data\n",
        "\n",
        "df = pd.read_csv(covid_vaccines)"
      ]
    },
    {
      "cell_type": "code",
      "execution_count": null,
      "id": "bcecc8df",
      "metadata": {
        "id": "bcecc8df",
        "outputId": "80458818-67ac-4080-acb6-6dcc5007f5f0"
      },
      "outputs": [
        {
          "data": {
            "text/html": [
              "<div>\n",
              "<style scoped>\n",
              "    .dataframe tbody tr th:only-of-type {\n",
              "        vertical-align: middle;\n",
              "    }\n",
              "\n",
              "    .dataframe tbody tr th {\n",
              "        vertical-align: top;\n",
              "    }\n",
              "\n",
              "    .dataframe thead th {\n",
              "        text-align: right;\n",
              "    }\n",
              "</style>\n",
              "<table border=\"1\" class=\"dataframe\">\n",
              "  <thead>\n",
              "    <tr style=\"text-align: right;\">\n",
              "      <th></th>\n",
              "      <th>county</th>\n",
              "      <th>administered_date</th>\n",
              "      <th>total_doses</th>\n",
              "      <th>cumulative_total_doses</th>\n",
              "      <th>pfizer_doses</th>\n",
              "      <th>cumulative_pfizer_doses</th>\n",
              "      <th>moderna_doses</th>\n",
              "      <th>cumulative_moderna_doses</th>\n",
              "      <th>jj_doses</th>\n",
              "      <th>cumulative_jj_doses</th>\n",
              "      <th>...</th>\n",
              "      <th>fully_vaccinated</th>\n",
              "      <th>cumulative_fully_vaccinated</th>\n",
              "      <th>at_least_one_dose</th>\n",
              "      <th>cumulative_at_least_one_dose</th>\n",
              "      <th>booster_recip_count</th>\n",
              "      <th>bivalent_booster_recip_count</th>\n",
              "      <th>cumulative_booster_recip_count</th>\n",
              "      <th>cumulative_bivalent_booster_recip_count</th>\n",
              "      <th>booster_eligible_population</th>\n",
              "      <th>bivalent_booster_eligible_population</th>\n",
              "    </tr>\n",
              "  </thead>\n",
              "  <tbody>\n",
              "    <tr>\n",
              "      <th>0</th>\n",
              "      <td>Alameda</td>\n",
              "      <td>1/5/20</td>\n",
              "      <td>0</td>\n",
              "      <td>0</td>\n",
              "      <td>0</td>\n",
              "      <td>0</td>\n",
              "      <td>0</td>\n",
              "      <td>0</td>\n",
              "      <td>0</td>\n",
              "      <td>0</td>\n",
              "      <td>...</td>\n",
              "      <td>0</td>\n",
              "      <td>0</td>\n",
              "      <td>0</td>\n",
              "      <td>0</td>\n",
              "      <td>0</td>\n",
              "      <td>0</td>\n",
              "      <td>0</td>\n",
              "      <td>0</td>\n",
              "      <td>1396064</td>\n",
              "      <td>1396064</td>\n",
              "    </tr>\n",
              "    <tr>\n",
              "      <th>1</th>\n",
              "      <td>Alameda</td>\n",
              "      <td>7/27/20</td>\n",
              "      <td>0</td>\n",
              "      <td>0</td>\n",
              "      <td>0</td>\n",
              "      <td>0</td>\n",
              "      <td>0</td>\n",
              "      <td>0</td>\n",
              "      <td>0</td>\n",
              "      <td>0</td>\n",
              "      <td>...</td>\n",
              "      <td>0</td>\n",
              "      <td>0</td>\n",
              "      <td>0</td>\n",
              "      <td>0</td>\n",
              "      <td>0</td>\n",
              "      <td>0</td>\n",
              "      <td>0</td>\n",
              "      <td>0</td>\n",
              "      <td>1396064</td>\n",
              "      <td>1396064</td>\n",
              "    </tr>\n",
              "    <tr>\n",
              "      <th>2</th>\n",
              "      <td>Alameda</td>\n",
              "      <td>7/30/20</td>\n",
              "      <td>0</td>\n",
              "      <td>2</td>\n",
              "      <td>0</td>\n",
              "      <td>0</td>\n",
              "      <td>0</td>\n",
              "      <td>2</td>\n",
              "      <td>0</td>\n",
              "      <td>0</td>\n",
              "      <td>...</td>\n",
              "      <td>0</td>\n",
              "      <td>0</td>\n",
              "      <td>0</td>\n",
              "      <td>2</td>\n",
              "      <td>0</td>\n",
              "      <td>0</td>\n",
              "      <td>0</td>\n",
              "      <td>0</td>\n",
              "      <td>1396064</td>\n",
              "      <td>1396064</td>\n",
              "    </tr>\n",
              "    <tr>\n",
              "      <th>3</th>\n",
              "      <td>Alameda</td>\n",
              "      <td>7/31/20</td>\n",
              "      <td>0</td>\n",
              "      <td>2</td>\n",
              "      <td>0</td>\n",
              "      <td>0</td>\n",
              "      <td>0</td>\n",
              "      <td>2</td>\n",
              "      <td>0</td>\n",
              "      <td>0</td>\n",
              "      <td>...</td>\n",
              "      <td>0</td>\n",
              "      <td>0</td>\n",
              "      <td>0</td>\n",
              "      <td>2</td>\n",
              "      <td>0</td>\n",
              "      <td>0</td>\n",
              "      <td>0</td>\n",
              "      <td>0</td>\n",
              "      <td>1396064</td>\n",
              "      <td>1396064</td>\n",
              "    </tr>\n",
              "    <tr>\n",
              "      <th>4</th>\n",
              "      <td>Alameda</td>\n",
              "      <td>8/1/20</td>\n",
              "      <td>0</td>\n",
              "      <td>2</td>\n",
              "      <td>0</td>\n",
              "      <td>0</td>\n",
              "      <td>0</td>\n",
              "      <td>2</td>\n",
              "      <td>0</td>\n",
              "      <td>0</td>\n",
              "      <td>...</td>\n",
              "      <td>0</td>\n",
              "      <td>0</td>\n",
              "      <td>0</td>\n",
              "      <td>2</td>\n",
              "      <td>0</td>\n",
              "      <td>0</td>\n",
              "      <td>0</td>\n",
              "      <td>0</td>\n",
              "      <td>1396064</td>\n",
              "      <td>1396064</td>\n",
              "    </tr>\n",
              "  </tbody>\n",
              "</table>\n",
              "<p>5 rows × 22 columns</p>\n",
              "</div>"
            ],
            "text/plain": [
              "    county administered_date  total_doses  cumulative_total_doses  \\\n",
              "0  Alameda            1/5/20            0                       0   \n",
              "1  Alameda           7/27/20            0                       0   \n",
              "2  Alameda           7/30/20            0                       2   \n",
              "3  Alameda           7/31/20            0                       2   \n",
              "4  Alameda            8/1/20            0                       2   \n",
              "\n",
              "   pfizer_doses  cumulative_pfizer_doses  moderna_doses  \\\n",
              "0             0                        0              0   \n",
              "1             0                        0              0   \n",
              "2             0                        0              0   \n",
              "3             0                        0              0   \n",
              "4             0                        0              0   \n",
              "\n",
              "   cumulative_moderna_doses  jj_doses  cumulative_jj_doses  ...  \\\n",
              "0                         0         0                    0  ...   \n",
              "1                         0         0                    0  ...   \n",
              "2                         2         0                    0  ...   \n",
              "3                         2         0                    0  ...   \n",
              "4                         2         0                    0  ...   \n",
              "\n",
              "   fully_vaccinated  cumulative_fully_vaccinated  at_least_one_dose  \\\n",
              "0                 0                            0                  0   \n",
              "1                 0                            0                  0   \n",
              "2                 0                            0                  0   \n",
              "3                 0                            0                  0   \n",
              "4                 0                            0                  0   \n",
              "\n",
              "   cumulative_at_least_one_dose  booster_recip_count  \\\n",
              "0                             0                    0   \n",
              "1                             0                    0   \n",
              "2                             2                    0   \n",
              "3                             2                    0   \n",
              "4                             2                    0   \n",
              "\n",
              "   bivalent_booster_recip_count  cumulative_booster_recip_count  \\\n",
              "0                             0                               0   \n",
              "1                             0                               0   \n",
              "2                             0                               0   \n",
              "3                             0                               0   \n",
              "4                             0                               0   \n",
              "\n",
              "   cumulative_bivalent_booster_recip_count  booster_eligible_population  \\\n",
              "0                                        0                      1396064   \n",
              "1                                        0                      1396064   \n",
              "2                                        0                      1396064   \n",
              "3                                        0                      1396064   \n",
              "4                                        0                      1396064   \n",
              "\n",
              "   bivalent_booster_eligible_population  \n",
              "0                               1396064  \n",
              "1                               1396064  \n",
              "2                               1396064  \n",
              "3                               1396064  \n",
              "4                               1396064  \n",
              "\n",
              "[5 rows x 22 columns]"
            ]
          },
          "execution_count": 847,
          "metadata": {},
          "output_type": "execute_result"
        }
      ],
      "source": [
        "#Display the first five rows in the dataset\n",
        "df.head()"
      ]
    },
    {
      "cell_type": "markdown",
      "id": "e2dd72c2",
      "metadata": {
        "id": "e2dd72c2"
      },
      "source": [
        "## <font color=grey> WORKFLOW: Clean and Preprocess the Dataset </font>"
      ]
    },
    {
      "cell_type": "markdown",
      "id": "92119d20",
      "metadata": {
        "id": "92119d20"
      },
      "source": [
        "## STEP 3: Clean the data"
      ]
    },
    {
      "cell_type": "code",
      "execution_count": null,
      "id": "a7738a1b",
      "metadata": {
        "id": "a7738a1b",
        "outputId": "f97b5552-ad3f-43ac-8bf0-e757735a05df"
      },
      "outputs": [
        {
          "name": "stdout",
          "output_type": "stream",
          "text": [
            "<class 'pandas.core.frame.DataFrame'>\n",
            "RangeIndex: 49737 entries, 0 to 49736\n",
            "Data columns (total 22 columns):\n",
            " #   Column                                   Non-Null Count  Dtype \n",
            "---  ------                                   --------------  ----- \n",
            " 0   county                                   49737 non-null  object\n",
            " 1   administered_date                        49737 non-null  object\n",
            " 2   total_doses                              49737 non-null  int64 \n",
            " 3   cumulative_total_doses                   49737 non-null  int64 \n",
            " 4   pfizer_doses                             49737 non-null  int64 \n",
            " 5   cumulative_pfizer_doses                  49737 non-null  int64 \n",
            " 6   moderna_doses                            49737 non-null  int64 \n",
            " 7   cumulative_moderna_doses                 49737 non-null  int64 \n",
            " 8   jj_doses                                 49737 non-null  int64 \n",
            " 9   cumulative_jj_doses                      49737 non-null  int64 \n",
            " 10  partially_vaccinated                     49737 non-null  int64 \n",
            " 11  total_partially_vaccinated               49737 non-null  int64 \n",
            " 12  fully_vaccinated                         49737 non-null  int64 \n",
            " 13  cumulative_fully_vaccinated              49737 non-null  int64 \n",
            " 14  at_least_one_dose                        49737 non-null  int64 \n",
            " 15  cumulative_at_least_one_dose             49737 non-null  int64 \n",
            " 16  booster_recip_count                      49737 non-null  int64 \n",
            " 17  bivalent_booster_recip_count             49737 non-null  int64 \n",
            " 18  cumulative_booster_recip_count           49737 non-null  int64 \n",
            " 19  cumulative_bivalent_booster_recip_count  49737 non-null  int64 \n",
            " 20  booster_eligible_population              49737 non-null  int64 \n",
            " 21  bivalent_booster_eligible_population     49737 non-null  int64 \n",
            "dtypes: int64(20), object(2)\n",
            "memory usage: 8.3+ MB\n"
          ]
        }
      ],
      "source": [
        "df.info()"
      ]
    },
    {
      "cell_type": "code",
      "execution_count": null,
      "id": "5d079591",
      "metadata": {
        "id": "5d079591",
        "outputId": "c100e0a9-aad5-4d4a-ddaa-930c1a9d5a62"
      },
      "outputs": [
        {
          "data": {
            "text/plain": [
              "county                                     0\n",
              "administered_date                          0\n",
              "total_doses                                0\n",
              "cumulative_total_doses                     0\n",
              "pfizer_doses                               0\n",
              "cumulative_pfizer_doses                    0\n",
              "moderna_doses                              0\n",
              "cumulative_moderna_doses                   0\n",
              "jj_doses                                   0\n",
              "cumulative_jj_doses                        0\n",
              "partially_vaccinated                       0\n",
              "total_partially_vaccinated                 0\n",
              "fully_vaccinated                           0\n",
              "cumulative_fully_vaccinated                0\n",
              "at_least_one_dose                          0\n",
              "cumulative_at_least_one_dose               0\n",
              "booster_recip_count                        0\n",
              "bivalent_booster_recip_count               0\n",
              "cumulative_booster_recip_count             0\n",
              "cumulative_bivalent_booster_recip_count    0\n",
              "booster_eligible_population                0\n",
              "bivalent_booster_eligible_population       0\n",
              "dtype: int64"
            ]
          },
          "execution_count": 764,
          "metadata": {},
          "output_type": "execute_result"
        }
      ],
      "source": [
        "#Checking for missing values\n",
        "\n",
        "df.isnull().sum()"
      ]
    },
    {
      "cell_type": "markdown",
      "id": "a5d6eff9",
      "metadata": {
        "id": "a5d6eff9"
      },
      "source": [
        "## STEP 4: Data Preparation and Visualization\n"
      ]
    },
    {
      "cell_type": "code",
      "execution_count": null,
      "id": "09ac651a",
      "metadata": {
        "id": "09ac651a",
        "outputId": "b7d230d3-101a-481a-bb95-148b610ec073"
      },
      "outputs": [
        {
          "data": {
            "text/html": [
              "<div>\n",
              "<style scoped>\n",
              "    .dataframe tbody tr th:only-of-type {\n",
              "        vertical-align: middle;\n",
              "    }\n",
              "\n",
              "    .dataframe tbody tr th {\n",
              "        vertical-align: top;\n",
              "    }\n",
              "\n",
              "    .dataframe thead th {\n",
              "        text-align: right;\n",
              "    }\n",
              "</style>\n",
              "<table border=\"1\" class=\"dataframe\">\n",
              "  <thead>\n",
              "    <tr style=\"text-align: right;\">\n",
              "      <th></th>\n",
              "      <th>administered_date</th>\n",
              "      <th>total_doses</th>\n",
              "    </tr>\n",
              "  </thead>\n",
              "  <tbody>\n",
              "    <tr>\n",
              "      <th>0</th>\n",
              "      <td>1/5/20</td>\n",
              "      <td>0</td>\n",
              "    </tr>\n",
              "    <tr>\n",
              "      <th>1</th>\n",
              "      <td>7/27/20</td>\n",
              "      <td>0</td>\n",
              "    </tr>\n",
              "    <tr>\n",
              "      <th>2</th>\n",
              "      <td>7/30/20</td>\n",
              "      <td>0</td>\n",
              "    </tr>\n",
              "    <tr>\n",
              "      <th>3</th>\n",
              "      <td>7/31/20</td>\n",
              "      <td>0</td>\n",
              "    </tr>\n",
              "    <tr>\n",
              "      <th>4</th>\n",
              "      <td>8/1/20</td>\n",
              "      <td>0</td>\n",
              "    </tr>\n",
              "  </tbody>\n",
              "</table>\n",
              "</div>"
            ],
            "text/plain": [
              "  administered_date  total_doses\n",
              "0            1/5/20            0\n",
              "1           7/27/20            0\n",
              "2           7/30/20            0\n",
              "3           7/31/20            0\n",
              "4            8/1/20            0"
            ]
          },
          "execution_count": 848,
          "metadata": {},
          "output_type": "execute_result"
        }
      ],
      "source": [
        "df1=df[['administered_date','total_doses']]\n",
        "df1.head()"
      ]
    },
    {
      "cell_type": "code",
      "execution_count": null,
      "id": "79529e96",
      "metadata": {
        "id": "79529e96",
        "outputId": "b14f702b-dd4d-4a23-c355-6a3dac22ee9f"
      },
      "outputs": [
        {
          "name": "stdout",
          "output_type": "stream",
          "text": [
            "<class 'pandas.core.frame.DataFrame'>\n",
            "RangeIndex: 49737 entries, 0 to 49736\n",
            "Data columns (total 2 columns):\n",
            " #   Column             Non-Null Count  Dtype         \n",
            "---  ------             --------------  -----         \n",
            " 0   administered_date  49737 non-null  datetime64[ns]\n",
            " 1   total_doses        49737 non-null  int64         \n",
            "dtypes: datetime64[ns](1), int64(1)\n",
            "memory usage: 777.3 KB\n",
            "None\n"
          ]
        },
        {
          "data": {
            "text/html": [
              "<div>\n",
              "<style scoped>\n",
              "    .dataframe tbody tr th:only-of-type {\n",
              "        vertical-align: middle;\n",
              "    }\n",
              "\n",
              "    .dataframe tbody tr th {\n",
              "        vertical-align: top;\n",
              "    }\n",
              "\n",
              "    .dataframe thead th {\n",
              "        text-align: right;\n",
              "    }\n",
              "</style>\n",
              "<table border=\"1\" class=\"dataframe\">\n",
              "  <thead>\n",
              "    <tr style=\"text-align: right;\">\n",
              "      <th></th>\n",
              "      <th>administered_date</th>\n",
              "      <th>total_doses</th>\n",
              "    </tr>\n",
              "  </thead>\n",
              "  <tbody>\n",
              "    <tr>\n",
              "      <th>0</th>\n",
              "      <td>2020-01-05</td>\n",
              "      <td>0</td>\n",
              "    </tr>\n",
              "    <tr>\n",
              "      <th>1</th>\n",
              "      <td>2020-07-27</td>\n",
              "      <td>0</td>\n",
              "    </tr>\n",
              "    <tr>\n",
              "      <th>2</th>\n",
              "      <td>2020-07-30</td>\n",
              "      <td>0</td>\n",
              "    </tr>\n",
              "    <tr>\n",
              "      <th>3</th>\n",
              "      <td>2020-07-31</td>\n",
              "      <td>0</td>\n",
              "    </tr>\n",
              "    <tr>\n",
              "      <th>4</th>\n",
              "      <td>2020-08-01</td>\n",
              "      <td>0</td>\n",
              "    </tr>\n",
              "  </tbody>\n",
              "</table>\n",
              "</div>"
            ],
            "text/plain": [
              "  administered_date  total_doses\n",
              "0        2020-01-05            0\n",
              "1        2020-07-27            0\n",
              "2        2020-07-30            0\n",
              "3        2020-07-31            0\n",
              "4        2020-08-01            0"
            ]
          },
          "execution_count": 849,
          "metadata": {},
          "output_type": "execute_result"
        }
      ],
      "source": [
        "# converting date from datatype to datatime datatype\n",
        "df1['administered_date'] = pd.to_datetime(df1['administered_date'])\n",
        "print(df1.info())\n",
        "df1.head()"
      ]
    },
    {
      "cell_type": "code",
      "execution_count": null,
      "id": "244d8e6d",
      "metadata": {
        "id": "244d8e6d",
        "outputId": "4253a14f-d434-4ffa-ffed-979b74baf990"
      },
      "outputs": [
        {
          "data": {
            "text/html": [
              "<div>\n",
              "<style scoped>\n",
              "    .dataframe tbody tr th:only-of-type {\n",
              "        vertical-align: middle;\n",
              "    }\n",
              "\n",
              "    .dataframe tbody tr th {\n",
              "        vertical-align: top;\n",
              "    }\n",
              "\n",
              "    .dataframe thead th {\n",
              "        text-align: right;\n",
              "    }\n",
              "</style>\n",
              "<table border=\"1\" class=\"dataframe\">\n",
              "  <thead>\n",
              "    <tr style=\"text-align: right;\">\n",
              "      <th></th>\n",
              "      <th>total_doses</th>\n",
              "    </tr>\n",
              "  </thead>\n",
              "  <tbody>\n",
              "    <tr>\n",
              "      <th>count</th>\n",
              "      <td>49737.000000</td>\n",
              "    </tr>\n",
              "    <tr>\n",
              "      <th>mean</th>\n",
              "      <td>1705.813961</td>\n",
              "    </tr>\n",
              "    <tr>\n",
              "      <th>std</th>\n",
              "      <td>5877.405980</td>\n",
              "    </tr>\n",
              "    <tr>\n",
              "      <th>min</th>\n",
              "      <td>0.000000</td>\n",
              "    </tr>\n",
              "    <tr>\n",
              "      <th>25%</th>\n",
              "      <td>9.000000</td>\n",
              "    </tr>\n",
              "    <tr>\n",
              "      <th>50%</th>\n",
              "      <td>156.000000</td>\n",
              "    </tr>\n",
              "    <tr>\n",
              "      <th>75%</th>\n",
              "      <td>1047.000000</td>\n",
              "    </tr>\n",
              "    <tr>\n",
              "      <th>max</th>\n",
              "      <td>140186.000000</td>\n",
              "    </tr>\n",
              "  </tbody>\n",
              "</table>\n",
              "</div>"
            ],
            "text/plain": [
              "         total_doses\n",
              "count   49737.000000\n",
              "mean     1705.813961\n",
              "std      5877.405980\n",
              "min         0.000000\n",
              "25%         9.000000\n",
              "50%       156.000000\n",
              "75%      1047.000000\n",
              "max    140186.000000"
            ]
          },
          "execution_count": 850,
          "metadata": {},
          "output_type": "execute_result"
        }
      ],
      "source": [
        "df1.describe()"
      ]
    },
    {
      "cell_type": "code",
      "execution_count": null,
      "id": "cf518c6a",
      "metadata": {
        "id": "cf518c6a",
        "outputId": "c4e220c1-2ce9-460a-8ce7-5a7e03e0434b"
      },
      "outputs": [
        {
          "name": "stdout",
          "output_type": "stream",
          "text": [
            "         administered_date  total_doses\n",
            "0    2019-12-30/2020-01-05            1\n",
            "1    2020-07-27/2020-08-02           60\n",
            "2    2020-08-03/2020-08-09          102\n",
            "3    2020-08-10/2020-08-16          171\n",
            "4    2020-08-17/2020-08-23          227\n",
            "..                     ...          ...\n",
            "117  2022-10-17/2022-10-23       587833\n",
            "118  2022-10-24/2022-10-30       573149\n",
            "119  2022-10-31/2022-11-06       499365\n",
            "120  2022-11-07/2022-11-13       455067\n",
            "121  2022-11-14/2022-11-20       124851\n",
            "\n",
            "[122 rows x 2 columns]\n"
          ]
        }
      ],
      "source": [
        "#convert to the weekly period and then sum the numbers in the period\n",
        "df1['administered_date'] = df1['administered_date'].dt.to_period(\"W\")\n",
        "monthly_vac = df1.groupby('administered_date').sum().reset_index()\n",
        "print(monthly_vac)"
      ]
    },
    {
      "cell_type": "code",
      "execution_count": null,
      "id": "241fef0f",
      "metadata": {
        "id": "241fef0f"
      },
      "outputs": [],
      "source": [
        "monthly_vac['administered_date'] = monthly_vac['administered_date'].dt.to_timestamp()\n"
      ]
    },
    {
      "cell_type": "markdown",
      "id": "70449a6d",
      "metadata": {
        "id": "70449a6d"
      },
      "source": [
        "### Step 4.1 Visualize actual doses administered vs periods of elevated cases and deaths"
      ]
    },
    {
      "cell_type": "code",
      "execution_count": null,
      "id": "17dab99f",
      "metadata": {
        "id": "17dab99f",
        "outputId": "1073adfe-c63a-41ef-fe9c-428d0071a6a0"
      },
      "outputs": [
        {
          "data": {
            "image/png": "[encoded data removed]",
            "text/plain": [
              "<Figure size 1080x360 with 1 Axes>"
            ]
          },
          "metadata": {},
          "output_type": "display_data"
        }
      ],
      "source": [
        "\n",
        "plt.figure(figsize=(15,5))\n",
        "plt.plot(monthly_vac['administered_date'],monthly_vac['total_doses'])\n",
        "plt.xlabel('Date')\n",
        "plt.ylabel('Number of doses')\n",
        "plt.title('Monthly doses Administered')\n",
        "plt.grid(color='r', axis = 'x', linestyle='--', linewidth=1)\n",
        "plt.show()\n",
        "\n",
        ""
      ]
    },
    {
      "cell_type": "code",
      "execution_count": null,
      "id": "f71f83b6",
      "metadata": {
        "id": "f71f83b6",
        "outputId": "f0ba6327-b899-482f-dea5-eaa940fa2473"
      },
      "outputs": [
        {
          "name": "stdout",
          "output_type": "stream",
          "text": [
            "    administered_date  total_doses  doses_diff\n",
            "1          2020-07-27           60        59.0\n",
            "2          2020-08-03          102        42.0\n",
            "3          2020-08-10          171        69.0\n",
            "4          2020-08-17          227        56.0\n",
            "5          2020-08-24          337       110.0\n",
            "..                ...          ...         ...\n",
            "117        2022-10-17       587833     -3115.0\n",
            "118        2022-10-24       573149    -14684.0\n",
            "119        2022-10-31       499365    -73784.0\n",
            "120        2022-11-07       455067    -44298.0\n",
            "121        2022-11-14       124851   -330216.0\n",
            "\n",
            "[121 rows x 3 columns]\n"
          ]
        }
      ],
      "source": [
        "# create a clolumn with the differences on the monthly vaccines\n",
        "# to make this data stationary, increase or decrease in doses\n",
        "monthly_vac['doses_diff'] = monthly_vac['total_doses'].diff()\n",
        "# drop the months where data is not available\n",
        "monthly_vac = monthly_vac.dropna()\n",
        "print(monthly_vac)"
      ]
    },
    {
      "cell_type": "markdown",
      "id": "a9930635",
      "metadata": {
        "id": "a9930635"
      },
      "source": [
        "### STEP 4.2 Calulate the sales difference (stationarize time series)"
      ]
    },
    {
      "cell_type": "code",
      "execution_count": null,
      "id": "a426784a",
      "metadata": {
        "id": "a426784a",
        "outputId": "b58b01f0-799f-48bd-f6c0-8ee875a8b199"
      },
      "outputs": [
        {
          "data": {
            "image/png": "[encoded data removed]",
            "text/plain": [
              "<Figure size 1080x360 with 1 Axes>"
            ]
          },
          "metadata": {},
          "output_type": "display_data"
        }
      ],
      "source": [
        "plt.figure(figsize=(15,5))\n",
        "plt.plot(monthly_vac['administered_date'],monthly_vac['doses_diff'])\n",
        "plt.xlabel('Date')\n",
        "plt.ylabel('Number of doses')\n",
        "plt.title('Weekly Administered doses  Difference')\n",
        "plt.show()"
      ]
    },
    {
      "cell_type": "code",
      "execution_count": null,
      "id": "5403ad2e",
      "metadata": {
        "id": "5403ad2e",
        "outputId": "51718ae9-ef75-4147-ac58-9891c4349396"
      },
      "outputs": [
        {
          "name": "stdout",
          "output_type": "stream",
          "text": [
            "   doses_diff\n",
            "1        59.0\n",
            "2        42.0\n",
            "3        69.0\n",
            "4        56.0\n",
            "5       110.0\n",
            "(121, 1)\n"
          ]
        }
      ],
      "source": [
        "# dropping off sales and date to deal just with stacionary data\n",
        "df2 = monthly_vac.drop(['administered_date','total_doses'],axis=1)\n",
        "print(df2.head())\n",
        "print(df2.shape)"
      ]
    },
    {
      "cell_type": "markdown",
      "id": "9843fad5",
      "metadata": {
        "id": "9843fad5"
      },
      "source": [
        "### STEP 4.3 Create the variables for week lag 1, lag 2, lag 3 and lag 4"
      ]
    },
    {
      "cell_type": "code",
      "execution_count": null,
      "id": "70d6842c",
      "metadata": {
        "id": "70d6842c",
        "outputId": "5d960086-dfeb-4d47-909b-fb742b602f5e"
      },
      "outputs": [
        {
          "name": "stdout",
          "output_type": "stream",
          "text": [
            "   doses_diff  week_1  week_2  week_3  week_4\n",
            "1        59.0     NaN     NaN     NaN     NaN\n",
            "2        42.0    59.0     NaN     NaN     NaN\n",
            "3        69.0    42.0    59.0     NaN     NaN\n",
            "4        56.0    69.0    42.0    59.0     NaN\n",
            "5       110.0    56.0    69.0    42.0    59.0\n"
          ]
        },
        {
          "data": {
            "text/html": [
              "<div>\n",
              "<style scoped>\n",
              "    .dataframe tbody tr th:only-of-type {\n",
              "        vertical-align: middle;\n",
              "    }\n",
              "\n",
              "    .dataframe tbody tr th {\n",
              "        vertical-align: top;\n",
              "    }\n",
              "\n",
              "    .dataframe thead th {\n",
              "        text-align: right;\n",
              "    }\n",
              "</style>\n",
              "<table border=\"1\" class=\"dataframe\">\n",
              "  <thead>\n",
              "    <tr style=\"text-align: right;\">\n",
              "      <th></th>\n",
              "      <th>doses_diff</th>\n",
              "      <th>week_1</th>\n",
              "      <th>week_2</th>\n",
              "      <th>week_3</th>\n",
              "      <th>week_4</th>\n",
              "    </tr>\n",
              "  </thead>\n",
              "  <tbody>\n",
              "    <tr>\n",
              "      <th>0</th>\n",
              "      <td>110.0</td>\n",
              "      <td>56.0</td>\n",
              "      <td>69.0</td>\n",
              "      <td>42.0</td>\n",
              "      <td>59.0</td>\n",
              "    </tr>\n",
              "    <tr>\n",
              "      <th>1</th>\n",
              "      <td>143.0</td>\n",
              "      <td>110.0</td>\n",
              "      <td>56.0</td>\n",
              "      <td>69.0</td>\n",
              "      <td>42.0</td>\n",
              "    </tr>\n",
              "    <tr>\n",
              "      <th>2</th>\n",
              "      <td>-42.0</td>\n",
              "      <td>143.0</td>\n",
              "      <td>110.0</td>\n",
              "      <td>56.0</td>\n",
              "      <td>69.0</td>\n",
              "    </tr>\n",
              "    <tr>\n",
              "      <th>3</th>\n",
              "      <td>-12.0</td>\n",
              "      <td>-42.0</td>\n",
              "      <td>143.0</td>\n",
              "      <td>110.0</td>\n",
              "      <td>56.0</td>\n",
              "    </tr>\n",
              "    <tr>\n",
              "      <th>4</th>\n",
              "      <td>37.0</td>\n",
              "      <td>-12.0</td>\n",
              "      <td>-42.0</td>\n",
              "      <td>143.0</td>\n",
              "      <td>110.0</td>\n",
              "    </tr>\n",
              "    <tr>\n",
              "      <th>5</th>\n",
              "      <td>-170.0</td>\n",
              "      <td>37.0</td>\n",
              "      <td>-12.0</td>\n",
              "      <td>-42.0</td>\n",
              "      <td>143.0</td>\n",
              "    </tr>\n",
              "    <tr>\n",
              "      <th>6</th>\n",
              "      <td>-63.0</td>\n",
              "      <td>-170.0</td>\n",
              "      <td>37.0</td>\n",
              "      <td>-12.0</td>\n",
              "      <td>-42.0</td>\n",
              "    </tr>\n",
              "    <tr>\n",
              "      <th>7</th>\n",
              "      <td>-22.0</td>\n",
              "      <td>-63.0</td>\n",
              "      <td>-170.0</td>\n",
              "      <td>37.0</td>\n",
              "      <td>-12.0</td>\n",
              "    </tr>\n",
              "    <tr>\n",
              "      <th>8</th>\n",
              "      <td>-34.0</td>\n",
              "      <td>-22.0</td>\n",
              "      <td>-63.0</td>\n",
              "      <td>-170.0</td>\n",
              "      <td>37.0</td>\n",
              "    </tr>\n",
              "    <tr>\n",
              "      <th>9</th>\n",
              "      <td>-10.0</td>\n",
              "      <td>-34.0</td>\n",
              "      <td>-22.0</td>\n",
              "      <td>-63.0</td>\n",
              "      <td>-170.0</td>\n",
              "    </tr>\n",
              "    <tr>\n",
              "      <th>10</th>\n",
              "      <td>12.0</td>\n",
              "      <td>-10.0</td>\n",
              "      <td>-34.0</td>\n",
              "      <td>-22.0</td>\n",
              "      <td>-63.0</td>\n",
              "    </tr>\n",
              "    <tr>\n",
              "      <th>11</th>\n",
              "      <td>47.0</td>\n",
              "      <td>12.0</td>\n",
              "      <td>-10.0</td>\n",
              "      <td>-34.0</td>\n",
              "      <td>-22.0</td>\n",
              "    </tr>\n",
              "    <tr>\n",
              "      <th>12</th>\n",
              "      <td>32.0</td>\n",
              "      <td>47.0</td>\n",
              "      <td>12.0</td>\n",
              "      <td>-10.0</td>\n",
              "      <td>-34.0</td>\n",
              "    </tr>\n",
              "    <tr>\n",
              "      <th>13</th>\n",
              "      <td>-105.0</td>\n",
              "      <td>32.0</td>\n",
              "      <td>47.0</td>\n",
              "      <td>12.0</td>\n",
              "      <td>-10.0</td>\n",
              "    </tr>\n",
              "    <tr>\n",
              "      <th>14</th>\n",
              "      <td>821.0</td>\n",
              "      <td>-105.0</td>\n",
              "      <td>32.0</td>\n",
              "      <td>47.0</td>\n",
              "      <td>12.0</td>\n",
              "    </tr>\n",
              "    <tr>\n",
              "      <th>15</th>\n",
              "      <td>-338.0</td>\n",
              "      <td>821.0</td>\n",
              "      <td>-105.0</td>\n",
              "      <td>32.0</td>\n",
              "      <td>47.0</td>\n",
              "    </tr>\n",
              "    <tr>\n",
              "      <th>16</th>\n",
              "      <td>138545.0</td>\n",
              "      <td>-338.0</td>\n",
              "      <td>821.0</td>\n",
              "      <td>-105.0</td>\n",
              "      <td>32.0</td>\n",
              "    </tr>\n",
              "    <tr>\n",
              "      <th>17</th>\n",
              "      <td>76841.0</td>\n",
              "      <td>138545.0</td>\n",
              "      <td>-338.0</td>\n",
              "      <td>821.0</td>\n",
              "      <td>-105.0</td>\n",
              "    </tr>\n",
              "    <tr>\n",
              "      <th>18</th>\n",
              "      <td>23809.0</td>\n",
              "      <td>76841.0</td>\n",
              "      <td>138545.0</td>\n",
              "      <td>-338.0</td>\n",
              "      <td>821.0</td>\n",
              "    </tr>\n",
              "    <tr>\n",
              "      <th>19</th>\n",
              "      <td>241241.0</td>\n",
              "      <td>23809.0</td>\n",
              "      <td>76841.0</td>\n",
              "      <td>138545.0</td>\n",
              "      <td>-338.0</td>\n",
              "    </tr>\n",
              "    <tr>\n",
              "      <th>20</th>\n",
              "      <td>297952.0</td>\n",
              "      <td>241241.0</td>\n",
              "      <td>23809.0</td>\n",
              "      <td>76841.0</td>\n",
              "      <td>138545.0</td>\n",
              "    </tr>\n",
              "    <tr>\n",
              "      <th>21</th>\n",
              "      <td>180221.0</td>\n",
              "      <td>297952.0</td>\n",
              "      <td>241241.0</td>\n",
              "      <td>23809.0</td>\n",
              "      <td>76841.0</td>\n",
              "    </tr>\n",
              "    <tr>\n",
              "      <th>22</th>\n",
              "      <td>171405.0</td>\n",
              "      <td>180221.0</td>\n",
              "      <td>297952.0</td>\n",
              "      <td>241241.0</td>\n",
              "      <td>23809.0</td>\n",
              "    </tr>\n",
              "    <tr>\n",
              "      <th>23</th>\n",
              "      <td>203478.0</td>\n",
              "      <td>171405.0</td>\n",
              "      <td>180221.0</td>\n",
              "      <td>297952.0</td>\n",
              "      <td>241241.0</td>\n",
              "    </tr>\n",
              "    <tr>\n",
              "      <th>24</th>\n",
              "      <td>178309.0</td>\n",
              "      <td>203478.0</td>\n",
              "      <td>171405.0</td>\n",
              "      <td>180221.0</td>\n",
              "      <td>297952.0</td>\n",
              "    </tr>\n",
              "    <tr>\n",
              "      <th>25</th>\n",
              "      <td>-13102.0</td>\n",
              "      <td>178309.0</td>\n",
              "      <td>203478.0</td>\n",
              "      <td>171405.0</td>\n",
              "      <td>180221.0</td>\n",
              "    </tr>\n",
              "    <tr>\n",
              "      <th>26</th>\n",
              "      <td>392080.0</td>\n",
              "      <td>-13102.0</td>\n",
              "      <td>178309.0</td>\n",
              "      <td>203478.0</td>\n",
              "      <td>171405.0</td>\n",
              "    </tr>\n",
              "    <tr>\n",
              "      <th>27</th>\n",
              "      <td>236586.0</td>\n",
              "      <td>392080.0</td>\n",
              "      <td>-13102.0</td>\n",
              "      <td>178309.0</td>\n",
              "      <td>203478.0</td>\n",
              "    </tr>\n",
              "    <tr>\n",
              "      <th>28</th>\n",
              "      <td>34817.0</td>\n",
              "      <td>236586.0</td>\n",
              "      <td>392080.0</td>\n",
              "      <td>-13102.0</td>\n",
              "      <td>178309.0</td>\n",
              "    </tr>\n",
              "  </tbody>\n",
              "</table>\n",
              "</div>"
            ],
            "text/plain": [
              "    doses_diff    week_1    week_2    week_3    week_4\n",
              "0        110.0      56.0      69.0      42.0      59.0\n",
              "1        143.0     110.0      56.0      69.0      42.0\n",
              "2        -42.0     143.0     110.0      56.0      69.0\n",
              "3        -12.0     -42.0     143.0     110.0      56.0\n",
              "4         37.0     -12.0     -42.0     143.0     110.0\n",
              "5       -170.0      37.0     -12.0     -42.0     143.0\n",
              "6        -63.0    -170.0      37.0     -12.0     -42.0\n",
              "7        -22.0     -63.0    -170.0      37.0     -12.0\n",
              "8        -34.0     -22.0     -63.0    -170.0      37.0\n",
              "9        -10.0     -34.0     -22.0     -63.0    -170.0\n",
              "10        12.0     -10.0     -34.0     -22.0     -63.0\n",
              "11        47.0      12.0     -10.0     -34.0     -22.0\n",
              "12        32.0      47.0      12.0     -10.0     -34.0\n",
              "13      -105.0      32.0      47.0      12.0     -10.0\n",
              "14       821.0    -105.0      32.0      47.0      12.0\n",
              "15      -338.0     821.0    -105.0      32.0      47.0\n",
              "16    138545.0    -338.0     821.0    -105.0      32.0\n",
              "17     76841.0  138545.0    -338.0     821.0    -105.0\n",
              "18     23809.0   76841.0  138545.0    -338.0     821.0\n",
              "19    241241.0   23809.0   76841.0  138545.0    -338.0\n",
              "20    297952.0  241241.0   23809.0   76841.0  138545.0\n",
              "21    180221.0  297952.0  241241.0   23809.0   76841.0\n",
              "22    171405.0  180221.0  297952.0  241241.0   23809.0\n",
              "23    203478.0  171405.0  180221.0  297952.0  241241.0\n",
              "24    178309.0  203478.0  171405.0  180221.0  297952.0\n",
              "25    -13102.0  178309.0  203478.0  171405.0  180221.0\n",
              "26    392080.0  -13102.0  178309.0  203478.0  171405.0\n",
              "27    236586.0  392080.0  -13102.0  178309.0  203478.0\n",
              "28     34817.0  236586.0  392080.0  -13102.0  178309.0"
            ]
          },
          "execution_count": 857,
          "metadata": {},
          "output_type": "execute_result"
        }
      ],
      "source": [
        "# Preparing the supervised data\n",
        "for i in range(1,5):\n",
        "    col_name = 'week_' + str(i)\n",
        "    df2[col_name] = df2['doses_diff'].shift(i)\n",
        "print(df2.head())\n",
        "df2 = df2.dropna().reset_index(drop=True)\n",
        "df2.head(29)"
      ]
    },
    {
      "cell_type": "code",
      "execution_count": null,
      "id": "1e3074b5",
      "metadata": {
        "id": "1e3074b5",
        "outputId": "0489b4a2-1687-4a9e-ff92-44e71d9b2c87"
      },
      "outputs": [
        {
          "data": {
            "text/plain": [
              "(117, 5)"
            ]
          },
          "execution_count": 833,
          "metadata": {},
          "output_type": "execute_result"
        }
      ],
      "source": [
        "df2.shape"
      ]
    },
    {
      "cell_type": "markdown",
      "id": "799cfdd3",
      "metadata": {
        "id": "799cfdd3"
      },
      "source": [
        "## STEP 5: Split the data in training and test"
      ]
    },
    {
      "cell_type": "code",
      "execution_count": null,
      "id": "589a9626",
      "metadata": {
        "id": "589a9626",
        "outputId": "5e6cabfe-26c8-4dd4-aaa3-0a7779138d50"
      },
      "outputs": [
        {
          "name": "stdout",
          "output_type": "stream",
          "text": [
            "Train data Shape (76, 5)\n",
            "Test data Shape (41, 5)\n"
          ]
        }
      ],
      "source": [
        "# split the data between train and test data\n",
        "df2_train = df2.iloc[:-41]\n",
        "#print(df2_train.head())\n",
        "df2_test = df2.iloc[-41:]\n",
        "#print(df2_test.head())\n",
        "print(\"Train data Shape\", df2_train.shape)\n",
        "print(\"Test data Shape\", df2_test.shape)"
      ]
    },
    {
      "cell_type": "markdown",
      "id": "7e92aa5d",
      "metadata": {
        "id": "7e92aa5d"
      },
      "source": [
        "### STEP 5.1 Transform the data in smaller scale"
      ]
    },
    {
      "cell_type": "code",
      "execution_count": null,
      "id": "3bc49d6b",
      "metadata": {
        "id": "3bc49d6b"
      },
      "outputs": [],
      "source": [
        "#scale the values between -1 and 1\n",
        "scaler =MinMaxScaler(feature_range=(-1,1))\n",
        "scaler.fit(df2_train)\n",
        "df2_train = scaler.transform(df2_train)\n",
        "df2_test = scaler.transform(df2_test)"
      ]
    },
    {
      "cell_type": "markdown",
      "id": "8a77aa01",
      "metadata": {
        "id": "8a77aa01"
      },
      "source": [
        "### STEP 5.2 Get the X and Y variables fot training and test data"
      ]
    },
    {
      "cell_type": "code",
      "execution_count": null,
      "id": "a8a11371",
      "metadata": {
        "id": "a8a11371",
        "outputId": "ae776bcc-fcb8-4547-e63a-6d1b6ee90a85"
      },
      "outputs": [
        {
          "name": "stdout",
          "output_type": "stream",
          "text": [
            "X_train Shape (76, 4)\n",
            "Y_train Shape (76,)\n",
            "X_test Shape (41, 4)\n",
            "Y_test Shape (41,)\n"
          ]
        }
      ],
      "source": [
        "X_train, Y_train = df2_train[:,1:], df2_train[:,0:1]\n",
        "X_test, Y_test = df2_test[:,1:], df2_test[:,0:1]\n",
        "Y_train = Y_train.ravel()\n",
        "Y_test = Y_test.ravel()\n",
        "print('X_train Shape', X_train.shape)\n",
        "print('Y_train Shape', Y_train.shape)\n",
        "print('X_test Shape', X_test.shape)\n",
        "print('Y_test Shape', Y_test.shape)\n"
      ]
    },
    {
      "cell_type": "code",
      "execution_count": null,
      "id": "b31b6f94",
      "metadata": {
        "id": "b31b6f94"
      },
      "outputs": [],
      "source": [
        "# Make a prediction data frame to merge the predicted\n",
        "doses_dates = monthly_vac['administered_date'][-41:].reset_index(drop=True)"
      ]
    },
    {
      "cell_type": "code",
      "execution_count": null,
      "id": "d12d46be",
      "metadata": {
        "id": "d12d46be",
        "outputId": "0b004f8c-8f7d-45cd-d8dd-a2bb90049d44"
      },
      "outputs": [
        {
          "data": {
            "text/html": [
              "<div>\n",
              "<style scoped>\n",
              "    .dataframe tbody tr th:only-of-type {\n",
              "        vertical-align: middle;\n",
              "    }\n",
              "\n",
              "    .dataframe tbody tr th {\n",
              "        vertical-align: top;\n",
              "    }\n",
              "\n",
              "    .dataframe thead th {\n",
              "        text-align: right;\n",
              "    }\n",
              "</style>\n",
              "<table border=\"1\" class=\"dataframe\">\n",
              "  <thead>\n",
              "    <tr style=\"text-align: right;\">\n",
              "      <th></th>\n",
              "      <th>administered_date</th>\n",
              "    </tr>\n",
              "  </thead>\n",
              "  <tbody>\n",
              "    <tr>\n",
              "      <th>0</th>\n",
              "      <td>2022-02-07</td>\n",
              "    </tr>\n",
              "    <tr>\n",
              "      <th>1</th>\n",
              "      <td>2022-02-14</td>\n",
              "    </tr>\n",
              "    <tr>\n",
              "      <th>2</th>\n",
              "      <td>2022-02-21</td>\n",
              "    </tr>\n",
              "    <tr>\n",
              "      <th>3</th>\n",
              "      <td>2022-02-28</td>\n",
              "    </tr>\n",
              "    <tr>\n",
              "      <th>4</th>\n",
              "      <td>2022-03-07</td>\n",
              "    </tr>\n",
              "  </tbody>\n",
              "</table>\n",
              "</div>"
            ],
            "text/plain": [
              "  administered_date\n",
              "0        2022-02-07\n",
              "1        2022-02-14\n",
              "2        2022-02-21\n",
              "3        2022-02-28\n",
              "4        2022-03-07"
            ]
          },
          "execution_count": 862,
          "metadata": {},
          "output_type": "execute_result"
        }
      ],
      "source": [
        "predict_df = pd.DataFrame(doses_dates)\n",
        "predict_df.head()"
      ]
    },
    {
      "cell_type": "code",
      "execution_count": null,
      "id": "887cfa47",
      "metadata": {
        "id": "887cfa47",
        "outputId": "5307a454-dbd6-414a-9dee-66f6c965567c"
      },
      "outputs": [
        {
          "name": "stdout",
          "output_type": "stream",
          "text": [
            "[646017, 494228, 397874, 352295, 300866, 225824, 208574, 189722, 368029, 495224, 468160, 420129, 393861, 350550, 356018, 370074, 376855, 298748, 293060, 252926, 256406, 240591, 215756, 296781, 299775, 252301, 211658, 174082, 156658, 135105, 94573, 261954, 477769, 546434, 553331, 582720, 590948, 587833, 573149, 499365, 455067, 124851]\n"
          ]
        }
      ],
      "source": [
        "act_doses = monthly_vac['total_doses'][-42:].to_list()\n",
        "print(act_doses)"
      ]
    },
    {
      "cell_type": "markdown",
      "id": "a0df6187",
      "metadata": {
        "id": "a0df6187"
      },
      "source": [
        "## STEP 6: Build and and train the Model"
      ]
    },
    {
      "cell_type": "code",
      "execution_count": null,
      "id": "e6a6443a",
      "metadata": {
        "id": "e6a6443a"
      },
      "outputs": [],
      "source": [
        "# Create the linear regression model and predicted output\n",
        "model = LinearRegression()\n",
        "model.fit(X_train, Y_train)\n",
        "lr_pre = model.predict(X_test)"
      ]
    },
    {
      "cell_type": "markdown",
      "id": "fbfbbef1",
      "metadata": {
        "id": "fbfbbef1"
      },
      "source": [
        "### STEP 6.1 Transform the data back to original scale"
      ]
    },
    {
      "cell_type": "code",
      "execution_count": null,
      "id": "5b5e6863",
      "metadata": {
        "id": "5b5e6863"
      },
      "outputs": [],
      "source": [
        "# transform the values back to the original scale\n",
        "lr_pre = lr_pre.reshape(-1,1)\n",
        "# Create a matrix with the X test and predicted doses\n",
        "lr_pre_test_set = np.concatenate([lr_pre, X_test], axis=1)\n",
        "lr_pre_test_set = scaler.inverse_transform(lr_pre_test_set)\n"
      ]
    },
    {
      "cell_type": "code",
      "execution_count": null,
      "id": "7525ad3e",
      "metadata": {
        "id": "7525ad3e",
        "outputId": "0ede1738-889f-4983-fe5c-41c942d62982"
      },
      "outputs": [
        {
          "name": "stdout",
          "output_type": "stream",
          "text": [
            "(41, 2)\n",
            "(121, 3)\n"
          ]
        },
        {
          "data": {
            "text/html": [
              "<div>\n",
              "<style scoped>\n",
              "    .dataframe tbody tr th:only-of-type {\n",
              "        vertical-align: middle;\n",
              "    }\n",
              "\n",
              "    .dataframe tbody tr th {\n",
              "        vertical-align: top;\n",
              "    }\n",
              "\n",
              "    .dataframe thead th {\n",
              "        text-align: right;\n",
              "    }\n",
              "</style>\n",
              "<table border=\"1\" class=\"dataframe\">\n",
              "  <thead>\n",
              "    <tr style=\"text-align: right;\">\n",
              "      <th></th>\n",
              "      <th>administered_date</th>\n",
              "      <th>Linear Prediction</th>\n",
              "    </tr>\n",
              "  </thead>\n",
              "  <tbody>\n",
              "    <tr>\n",
              "      <th>0</th>\n",
              "      <td>2022-02-07</td>\n",
              "      <td>523649.888005</td>\n",
              "    </tr>\n",
              "    <tr>\n",
              "      <th>1</th>\n",
              "      <td>2022-02-14</td>\n",
              "      <td>386046.856277</td>\n",
              "    </tr>\n",
              "    <tr>\n",
              "      <th>2</th>\n",
              "      <td>2022-02-21</td>\n",
              "      <td>312774.787282</td>\n",
              "    </tr>\n",
              "    <tr>\n",
              "      <th>3</th>\n",
              "      <td>2022-02-28</td>\n",
              "      <td>272622.884373</td>\n",
              "    </tr>\n",
              "    <tr>\n",
              "      <th>4</th>\n",
              "      <td>2022-03-07</td>\n",
              "      <td>243233.424820</td>\n",
              "    </tr>\n",
              "    <tr>\n",
              "      <th>5</th>\n",
              "      <td>2022-03-14</td>\n",
              "      <td>181632.881283</td>\n",
              "    </tr>\n",
              "    <tr>\n",
              "      <th>6</th>\n",
              "      <td>2022-03-21</td>\n",
              "      <td>182190.672122</td>\n",
              "    </tr>\n",
              "    <tr>\n",
              "      <th>7</th>\n",
              "      <td>2022-03-28</td>\n",
              "      <td>162469.407557</td>\n",
              "    </tr>\n",
              "    <tr>\n",
              "      <th>8</th>\n",
              "      <td>2022-04-04</td>\n",
              "      <td>384042.069589</td>\n",
              "    </tr>\n",
              "    <tr>\n",
              "      <th>9</th>\n",
              "      <td>2022-04-11</td>\n",
              "      <td>526574.673285</td>\n",
              "    </tr>\n",
              "    <tr>\n",
              "      <th>10</th>\n",
              "      <td>2022-04-18</td>\n",
              "      <td>497577.778346</td>\n",
              "    </tr>\n",
              "    <tr>\n",
              "      <th>11</th>\n",
              "      <td>2022-04-25</td>\n",
              "      <td>461673.766660</td>\n",
              "    </tr>\n",
              "    <tr>\n",
              "      <th>12</th>\n",
              "      <td>2022-05-02</td>\n",
              "      <td>403477.665101</td>\n",
              "    </tr>\n",
              "    <tr>\n",
              "      <th>13</th>\n",
              "      <td>2022-05-09</td>\n",
              "      <td>326749.447007</td>\n",
              "    </tr>\n",
              "    <tr>\n",
              "      <th>14</th>\n",
              "      <td>2022-05-16</td>\n",
              "      <td>340103.545744</td>\n",
              "    </tr>\n",
              "    <tr>\n",
              "      <th>15</th>\n",
              "      <td>2022-05-23</td>\n",
              "      <td>360731.373377</td>\n",
              "    </tr>\n",
              "    <tr>\n",
              "      <th>16</th>\n",
              "      <td>2022-05-30</td>\n",
              "      <td>371581.858831</td>\n",
              "    </tr>\n",
              "    <tr>\n",
              "      <th>17</th>\n",
              "      <td>2022-06-06</td>\n",
              "      <td>286799.437905</td>\n",
              "    </tr>\n",
              "    <tr>\n",
              "      <th>18</th>\n",
              "      <td>2022-06-13</td>\n",
              "      <td>289145.007155</td>\n",
              "    </tr>\n",
              "    <tr>\n",
              "      <th>19</th>\n",
              "      <td>2022-06-20</td>\n",
              "      <td>232605.070898</td>\n",
              "    </tr>\n",
              "    <tr>\n",
              "      <th>20</th>\n",
              "      <td>2022-06-27</td>\n",
              "      <td>238181.655413</td>\n",
              "    </tr>\n",
              "    <tr>\n",
              "      <th>21</th>\n",
              "      <td>2022-07-04</td>\n",
              "      <td>229595.179698</td>\n",
              "    </tr>\n",
              "    <tr>\n",
              "      <th>22</th>\n",
              "      <td>2022-07-11</td>\n",
              "      <td>202342.614511</td>\n",
              "    </tr>\n",
              "    <tr>\n",
              "      <th>23</th>\n",
              "      <td>2022-07-18</td>\n",
              "      <td>308104.189784</td>\n",
              "    </tr>\n",
              "    <tr>\n",
              "      <th>24</th>\n",
              "      <td>2022-07-25</td>\n",
              "      <td>298934.429094</td>\n",
              "    </tr>\n",
              "    <tr>\n",
              "      <th>25</th>\n",
              "      <td>2022-08-01</td>\n",
              "      <td>251382.034338</td>\n",
              "    </tr>\n",
              "    <tr>\n",
              "      <th>26</th>\n",
              "      <td>2022-08-08</td>\n",
              "      <td>214952.457345</td>\n",
              "    </tr>\n",
              "    <tr>\n",
              "      <th>27</th>\n",
              "      <td>2022-08-15</td>\n",
              "      <td>155919.273025</td>\n",
              "    </tr>\n",
              "    <tr>\n",
              "      <th>28</th>\n",
              "      <td>2022-08-22</td>\n",
              "      <td>134487.216267</td>\n",
              "    </tr>\n",
              "    <tr>\n",
              "      <th>29</th>\n",
              "      <td>2022-08-29</td>\n",
              "      <td>115411.697262</td>\n",
              "    </tr>\n",
              "    <tr>\n",
              "      <th>30</th>\n",
              "      <td>2022-09-05</td>\n",
              "      <td>74734.548174</td>\n",
              "    </tr>\n",
              "    <tr>\n",
              "      <th>31</th>\n",
              "      <td>2022-09-12</td>\n",
              "      <td>284084.952258</td>\n",
              "    </tr>\n",
              "    <tr>\n",
              "      <th>32</th>\n",
              "      <td>2022-09-19</td>\n",
              "      <td>521174.404075</td>\n",
              "    </tr>\n",
              "    <tr>\n",
              "      <th>33</th>\n",
              "      <td>2022-09-26</td>\n",
              "      <td>595380.081222</td>\n",
              "    </tr>\n",
              "    <tr>\n",
              "      <th>34</th>\n",
              "      <td>2022-10-03</td>\n",
              "      <td>625243.244168</td>\n",
              "    </tr>\n",
              "    <tr>\n",
              "      <th>35</th>\n",
              "      <td>2022-10-10</td>\n",
              "      <td>639202.606294</td>\n",
              "    </tr>\n",
              "    <tr>\n",
              "      <th>36</th>\n",
              "      <td>2022-10-17</td>\n",
              "      <td>607913.898724</td>\n",
              "    </tr>\n",
              "    <tr>\n",
              "      <th>37</th>\n",
              "      <td>2022-10-24</td>\n",
              "      <td>593323.180715</td>\n",
              "    </tr>\n",
              "    <tr>\n",
              "      <th>38</th>\n",
              "      <td>2022-10-31</td>\n",
              "      <td>576210.927269</td>\n",
              "    </tr>\n",
              "    <tr>\n",
              "      <th>39</th>\n",
              "      <td>2022-11-07</td>\n",
              "      <td>484336.388135</td>\n",
              "    </tr>\n",
              "    <tr>\n",
              "      <th>40</th>\n",
              "      <td>2022-11-14</td>\n",
              "      <td>437323.112329</td>\n",
              "    </tr>\n",
              "  </tbody>\n",
              "</table>\n",
              "</div>"
            ],
            "text/plain": [
              "   administered_date  Linear Prediction\n",
              "0         2022-02-07      523649.888005\n",
              "1         2022-02-14      386046.856277\n",
              "2         2022-02-21      312774.787282\n",
              "3         2022-02-28      272622.884373\n",
              "4         2022-03-07      243233.424820\n",
              "5         2022-03-14      181632.881283\n",
              "6         2022-03-21      182190.672122\n",
              "7         2022-03-28      162469.407557\n",
              "8         2022-04-04      384042.069589\n",
              "9         2022-04-11      526574.673285\n",
              "10        2022-04-18      497577.778346\n",
              "11        2022-04-25      461673.766660\n",
              "12        2022-05-02      403477.665101\n",
              "13        2022-05-09      326749.447007\n",
              "14        2022-05-16      340103.545744\n",
              "15        2022-05-23      360731.373377\n",
              "16        2022-05-30      371581.858831\n",
              "17        2022-06-06      286799.437905\n",
              "18        2022-06-13      289145.007155\n",
              "19        2022-06-20      232605.070898\n",
              "20        2022-06-27      238181.655413\n",
              "21        2022-07-04      229595.179698\n",
              "22        2022-07-11      202342.614511\n",
              "23        2022-07-18      308104.189784\n",
              "24        2022-07-25      298934.429094\n",
              "25        2022-08-01      251382.034338\n",
              "26        2022-08-08      214952.457345\n",
              "27        2022-08-15      155919.273025\n",
              "28        2022-08-22      134487.216267\n",
              "29        2022-08-29      115411.697262\n",
              "30        2022-09-05       74734.548174\n",
              "31        2022-09-12      284084.952258\n",
              "32        2022-09-19      521174.404075\n",
              "33        2022-09-26      595380.081222\n",
              "34        2022-10-03      625243.244168\n",
              "35        2022-10-10      639202.606294\n",
              "36        2022-10-17      607913.898724\n",
              "37        2022-10-24      593323.180715\n",
              "38        2022-10-31      576210.927269\n",
              "39        2022-11-07      484336.388135\n",
              "40        2022-11-14      437323.112329"
            ]
          },
          "execution_count": 866,
          "metadata": {},
          "output_type": "execute_result"
        }
      ],
      "source": [
        "result_list = []\n",
        "for i2 in range(0, len(lr_pre_test_set)):\n",
        "    result_list.append(lr_pre_test_set[i2][0] + act_doses[i2])\n",
        "lr_pre_series = pd.Series(result_list, name = 'Linear Prediction')\n",
        "predict_df = predict_df.merge(lr_pre_series, left_index = True, right_index = True)\n",
        "print(predict_df.shape)\n",
        "print(monthly_vac.shape)\n",
        "predict_df\n"
      ]
    },
    {
      "cell_type": "markdown",
      "id": "8ca40a9e",
      "metadata": {
        "id": "8ca40a9e"
      },
      "source": [
        "## STEP 7: Model Evaluation"
      ]
    },
    {
      "cell_type": "code",
      "execution_count": null,
      "id": "9ea73282",
      "metadata": {
        "id": "9ea73282",
        "outputId": "cda5a0c1-b4e1-4d5f-97a1-bc92daf77c4c"
      },
      "outputs": [
        {
          "name": "stdout",
          "output_type": "stream",
          "text": [
            "Linear regression MSE 83297.38304324557\n",
            "Linear regression MAE 54024.10710838589\n",
            "Linear regression R2 0.7114574966795546\n"
          ]
        }
      ],
      "source": [
        "# Evaluation of the model : Calculate the the meanSquared error, MAE and R2\n",
        "lr_mse = np.sqrt(mean_squared_error(predict_df['Linear Prediction'], monthly_vac['total_doses'][-41:]))\n",
        "lr_mae = mean_absolute_error(predict_df['Linear Prediction'],monthly_vac['total_doses'][-41:])\n",
        "lr_r2 = r2_score(predict_df['Linear Prediction'],monthly_vac['total_doses'][-41:])\n",
        "print('Linear regression MSE', lr_mse )\n",
        "print('Linear regression MAE', lr_mae )\n",
        "print('Linear regression R2', lr_r2 )"
      ]
    },
    {
      "cell_type": "markdown",
      "id": "a12101e7",
      "metadata": {
        "id": "a12101e7"
      },
      "source": [
        "## STEP 8: Visualization of predictions"
      ]
    },
    {
      "cell_type": "code",
      "execution_count": null,
      "id": "19662d87",
      "metadata": {
        "scrolled": true,
        "id": "19662d87",
        "outputId": "09e90768-c578-49c1-b5d3-667a8430bce6"
      },
      "outputs": [
        {
          "data": {
            "image/png": "[encoded data removed]",
            "text/plain": [
              "<Figure size 1080x360 with 1 Axes>"
            ]
          },
          "metadata": {},
          "output_type": "display_data"
        }
      ],
      "source": [
        "#Visualize the prediction\n",
        "plt.figure(figsize=(15,5))\n",
        "# actual sales\n",
        "plt.plot(monthly_vac['administered_date'], monthly_vac['total_doses'])\n",
        "# predicted sales\n",
        "plt.plot(predict_df['administered_date'],predict_df['Linear Prediction'])\n",
        "plt.title(\"Future vaccine requirements using Linear Regression\")\n",
        "plt.xlabel(\"Date\")\n",
        "plt.ylabel(\"Doses Required\")\n",
        "plt.legend(['Actual Doses', 'Predicted Doses'])\n",
        "plt.show()"
      ]
    }
  ],
  "metadata": {
    "kernelspec": {
      "display_name": "Python 3 (ipykernel)",
      "language": "python",
      "name": "python3"
    },
    "language_info": {
      "codemirror_mode": {
        "name": "ipython",
        "version": 3
      },
      "file_extension": ".py",
      "mimetype": "text/x-python",
      "name": "python",
      "nbconvert_exporter": "python",
      "pygments_lexer": "ipython3",
      "version": "3.9.12"
    },
    "colab": {
      "provenance": [],
      "include_colab_link": true
    }
  },
  "nbformat": 4,
  "nbformat_minor": 5
}